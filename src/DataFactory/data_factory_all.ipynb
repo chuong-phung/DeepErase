{
 "cells": [
  {
   "cell_type": "code",
   "execution_count": 1,
   "metadata": {},
   "outputs": [],
   "source": [
    "import os\n",
    "from glob import glob\n",
    "import cv2\n",
    "import matplotlib.pyplot as plt\n",
    "import numpy as np\n",
    "from os.path import join, basename, dirname\n",
    "from numpy.random import choice, normal, rand, randint,uniform\n",
    "from functools import reduce\n",
    "from data_artifact_edit_w_spurious_words import *"
   ]
  },
  {
   "cell_type": "markdown",
   "metadata": {},
   "source": [
    "# Binarization"
   ]
  },
  {
   "cell_type": "code",
   "execution_count": 10,
   "metadata": {},
   "outputs": [],
   "source": [
    "orig_dir='/root/datasets/artifact_images_no_intersect/artifact_images_no_intersect/images/'\n",
    "target_dir='/root/datasets/artifact_images_no_intersect/artifact_images_no_intersect/images_bin/'\n",
    "test_dir='/root/datasets/artifact_images_no_intersect/artifact_images_no_intersect/'"
   ]
  },
  {
   "cell_type": "code",
   "execution_count": 11,
   "metadata": {},
   "outputs": [],
   "source": [
    "file_paths=glob(orig_dir+'**.jpg')"
   ]
  },
  {
   "cell_type": "code",
   "execution_count": null,
   "metadata": {},
   "outputs": [],
   "source": [
    "ct=1\n",
    "for fpath in file_paths:\n",
    "    print(ct)\n",
    "    ct+=1\n",
    "    img = cv2.imread(fpath,cv2.IMREAD_GRAYSCALE)\n",
    "    img_binary=np.where(img>225, 255, 0)\n",
    "    cv2.imwrite(fpath.replace('/images/','/images_bin/'),img_binary)"
   ]
  },
  {
   "cell_type": "markdown",
   "metadata": {},
   "source": [
    "# Spurious Words - B PRT + S IAM EYD"
   ]
  },
  {
   "cell_type": "code",
   "execution_count": 40,
   "metadata": {},
   "outputs": [],
   "source": [
    "orig_img_dir='/root/datasets/img_print_single/'\n",
    "targ_dir='/root/datasets/artifact_images_noins_lbw/' # intersect won't be labeled as positive  04/12/2019\n",
    "test_dir='/root/datasets/artifact_images_noins_lbw/'\n",
    "if not os.path.exists(targ_dir):\n",
    "    os.mkdir(targ_dir)\n",
    "if not os.path.exists(targ_dir+'images'):\n",
    "    os.mkdir(targ_dir+'images')\n",
    "if not os.path.exists(targ_dir+'labels'):\n",
    "    os.mkdir(targ_dir+'labels')\n",
    "orig_paths=glob(orig_img_dir+'**/**.jpg')"
   ]
  },
  {
   "cell_type": "code",
   "execution_count": null,
   "metadata": {},
   "outputs": [],
   "source": [
    "#iamRoot='/root/datasets/iam_handwriting/'\n",
    "#irsRoot='/root/datasets/irs_handwriting/'\n",
    "#htrAssetsRoot='/root/datasets/htr_assets/'\n",
    "\n",
    "#iam_imgs=glob(join(iamRoot,'words','**/**/**.png'))\n",
    "#irs_imgs=glob(join(irsRoot,'**/**/**.jpg'))\n",
    "#ey_imgs=glob(join(htrAssetsRoot,'crowdsource/processed/**/**.jpg'))\n",
    "\n",
    "# Use iam+ey_imgs\n",
    "#patchSpuWordsFiles=iam_imgs+ey_imgs"
   ]
  },
  {
   "cell_type": "code",
   "execution_count": 15,
   "metadata": {},
   "outputs": [
    {
     "data": {
      "text/plain": [
       "284246"
      ]
     },
     "execution_count": 15,
     "metadata": {},
     "output_type": "execute_result"
    }
   ],
   "source": [
    "len(orig_paths)"
   ]
  },
  {
   "cell_type": "code",
   "execution_count": 28,
   "metadata": {},
   "outputs": [],
   "source": [
    "#iamRoot='/root/datasets/iam_handwriting/'\n",
    "#irsRoot='/root/datasets/irs_handwriting/'\n",
    "#htrAssetsRoot='/root/datasets/htr_assets/'\n",
    "#iam_imgs=glob(join(iamRoot,'words','**/**/**.png'))\n",
    "#irs_imgs=glob(join(irsRoot,'**/**/**.jpg'))\n",
    "#ey_imgs=glob(join(htrAssetsRoot,'crowdsource/processed/**/**.jpg'))\n",
    "# Use iam+ey_imgs\n",
    "#patchSpuWordsFiles=ey_imgs+iam_imgs"
   ]
  },
  {
   "cell_type": "code",
   "execution_count": null,
   "metadata": {},
   "outputs": [],
   "source": [
    "with open(targ_dir+'databook.txt','w') as f:\n",
    "    ct=0\n",
    "    for path in orig_paths:\n",
    "        print(ct)\n",
    "        ct+=1\n",
    "        img=cv2.imread(path,0)\n",
    "        img=cv2.resize(img, (128,32), interpolation=cv2.INTER_CUBIC)\n",
    "        nlst=path.replace(' ','_').split('/')\n",
    "        gt=nlst[-1].split('.')[0]\n",
    "        new_name='___'.join(nlst[-2:]) #use '#^#' as '/'\n",
    "        #print(new_name)\n",
    "\n",
    "        if rand() < .50:\n",
    "            img_a,imLabelA = merge_patch_box_random(img, centroid_std=.03)\n",
    "            img_b,imLabelS = merge_patch_words_random(img_a, centroid_std=.03)\n",
    "            imLabel=((imLabelA + imLabelS)>=1).astype(int)\n",
    "        else:\n",
    "            img_a,imLabelA = merge_patch_horiz_random(img, centroid_std=.05)\n",
    "            img_b,imLabelS = merge_patch_words_random(img_a, centroid_std=.03)\n",
    "            imLabel=((imLabelA + imLabelS)>=1).astype(int)\n",
    "        #if ct>=1:\n",
    "        #    break\n",
    "        cv2.imwrite(targ_dir+'images/'+new_name,img_b)\n",
    "        cv2.imwrite(targ_dir+'labels/'+new_name,imLabel)\n",
    "        f.write(' '.join((targ_dir+'images/'+new_name,targ_dir+'labels/'+new_name,gt))+'\\n')"
   ]
  },
  {
   "cell_type": "code",
   "execution_count": 20,
   "metadata": {},
   "outputs": [
    {
     "data": {
      "text/plain": [
       "True"
      ]
     },
     "execution_count": 20,
     "metadata": {},
     "output_type": "execute_result"
    }
   ],
   "source": [
    "cv2.imwrite(test_dir+'ppl_spuw_orig.jpg',img)\n",
    "cv2.imwrite(test_dir+'ppl_spuw_combine_1.jpg',img_a)\n",
    "cv2.imwrite(test_dir+'ppl_spuw_combine_2.jpg',img_b)\n",
    "cv2.imwrite(test_dir+'ppl_spuw_label.jpg',imLabel*255)"
   ]
  },
  {
   "cell_type": "markdown",
   "metadata": {},
   "source": [
    "### Sample Results"
   ]
  },
  {
   "cell_type": "code",
   "execution_count": 47,
   "metadata": {},
   "outputs": [],
   "source": [
    "with open(targ_dir+'databook.txt','r') as f:\n",
    "    lines=f.readlines()\n",
    "lines=[ l.strip('\\n').split() for l in lines]"
   ]
  },
  {
   "cell_type": "code",
   "execution_count": 74,
   "metadata": {},
   "outputs": [
    {
     "name": "stdout",
     "output_type": "stream",
     "text": [
      "129091\n",
      "['/root/datasets/artifact_images_noins_lbw/images/Piano_Concerto_No_2_in_G____Piano.jpg', '/root/datasets/artifact_images_noins_lbw/labels/Piano_Concerto_No_2_in_G____Piano.jpg', 'Piano']\n"
     ]
    },
    {
     "data": {
      "text/plain": [
       "True"
      ]
     },
     "execution_count": 74,
     "metadata": {},
     "output_type": "execute_result"
    }
   ],
   "source": [
    "row_num=randint(0,len(lines)+1)\n",
    "print(row_num)\n",
    "print(lines[row_num])\n",
    "sample_combined=cv2.imread(lines[row_num][0],0)\n",
    "sample_label=cv2.imread(lines[row_num][1],0)\n",
    "cv2.imwrite(test_dir+'combined_image.jpg',sample_combined)\n",
    "cv2.imwrite(test_dir+'combined_label.jpg',sample_label*255)"
   ]
  },
  {
   "cell_type": "code",
   "execution_count": null,
   "metadata": {},
   "outputs": [],
   "source": []
  },
  {
   "cell_type": "markdown",
   "metadata": {},
   "source": [
    "# Spurious Words - B PRT + S PRT\n",
    "\n"
   ]
  },
  {
   "cell_type": "code",
   "execution_count": 18,
   "metadata": {},
   "outputs": [],
   "source": [
    "orig_img_dir='/root/datasets/img_print_single/'\n",
    "targ_dir='/root/datasets/artifact_images_noins_lbw_bprt_sprt/' # intersect won't be labeled as positive  04/12/2019\n",
    "test_dir='/root/datasets/artifact_images_noins_lbw_bprt_sprt/'\n",
    "if not os.path.exists(targ_dir):\n",
    "    os.mkdir(targ_dir)\n",
    "if not os.path.exists(targ_dir+'images'):\n",
    "    os.mkdir(targ_dir+'images')\n",
    "if not os.path.exists(targ_dir+'labels'):\n",
    "    os.mkdir(targ_dir+'labels')\n",
    "orig_paths=glob(orig_img_dir+'**/**.jpg')"
   ]
  },
  {
   "cell_type": "code",
   "execution_count": 14,
   "metadata": {},
   "outputs": [],
   "source": [
    "#iamRoot='/root/datasets/iam_handwriting/'\n",
    "#irsRoot='/root/datasets/irs_handwriting/'\n",
    "prtRoot='/root/datasets/img_print_single/'\n",
    "htrAssetsRoot='/root/datasets/htr_assets/'\n",
    "\n",
    "#iam_imgs=glob(join(iamRoot,'words','**/**/**.png'))\n",
    "#irs_imgs=glob(join(irsRoot,'**/**/**.jpg'))\n",
    "#ey_imgs=glob(join(htrAssetsRoot,'crowdsource/processed/**/**.jpg'))\n",
    "prt_imgs=glob(join(prtRoot,'**/**.jpg'))\n",
    "\n",
    "# Use iam+ey_imgs\n",
    "patchSpuWordsFiles=prt_imgs"
   ]
  },
  {
   "cell_type": "code",
   "execution_count": null,
   "metadata": {},
   "outputs": [],
   "source": [
    "with open(targ_dir+'databook.txt','w') as f:\n",
    "    ct=0\n",
    "    for path in orig_paths:\n",
    "        print(ct)\n",
    "        ct+=1\n",
    "        img=cv2.imread(path,0)\n",
    "        img=cv2.resize(img, (128,32), interpolation=cv2.INTER_CUBIC)\n",
    "        nlst=path.replace(' ','_').split('/')\n",
    "        gt=nlst[-1].split('.')[0]\n",
    "        new_name='___'.join(nlst[-2:]) #use '#^#' as '/'\n",
    "        #print(new_name)\n",
    "\n",
    "        if rand() < .50:\n",
    "            img_a,imLabelA = merge_patch_box_random(img, centroid_std=.03)\n",
    "            img_b,imLabelS = merge_patch_words_random(img_a, patchSpuWordsFiles,centroid_std=.03)\n",
    "            imLabel=((imLabelA + imLabelS)>=1).astype(int)\n",
    "        else:\n",
    "            img_a,imLabelA = merge_patch_horiz_random(img, centroid_std=.05)\n",
    "            img_b,imLabelS = merge_patch_words_random(img_a, patchSpuWordsFiles,centroid_std=.03)\n",
    "            imLabel=((imLabelA + imLabelS)>=1).astype(int)\n",
    "        #if ct>=1:\n",
    "        #    break\n",
    "        cv2.imwrite(targ_dir+'images/'+new_name,img_b)\n",
    "        cv2.imwrite(targ_dir+'labels/'+new_name,imLabel)\n",
    "        f.write(' '.join((targ_dir+'images/'+new_name,targ_dir+'labels/'+new_name,gt))+'\\n')"
   ]
  },
  {
   "cell_type": "markdown",
   "metadata": {},
   "source": [
    "### Sample Results"
   ]
  },
  {
   "cell_type": "code",
   "execution_count": 20,
   "metadata": {},
   "outputs": [],
   "source": [
    "with open(targ_dir+'databook.txt','r') as f:\n",
    "    lines=f.readlines()\n",
    "lines=[ l.strip('\\n').split() for l in lines]"
   ]
  },
  {
   "cell_type": "code",
   "execution_count": null,
   "metadata": {},
   "outputs": [],
   "source": [
    "for idx in range(20):\n",
    "    row_num=randint(0,len(lines)+1)\n",
    "    print(row_num)\n",
    "    #print(lines[row_num])\n",
    "    sample_combined=cv2.imread(lines[row_num][0],0)\n",
    "    sample_label=cv2.imread(lines[row_num][1],0)\n",
    "\n",
    "    cv2.imwrite(test_dir+'combined_image_'+str(idx)+'.jpg',sample_combined)\n",
    "    cv2.imwrite(test_dir+'combined_label_'+str(idx)+'.jpg',sample_label*255)"
   ]
  },
  {
   "cell_type": "markdown",
   "metadata": {},
   "source": [
    "# Spurious Words - B IAM EYD + S PRT"
   ]
  },
  {
   "cell_type": "code",
   "execution_count": 6,
   "metadata": {},
   "outputs": [],
   "source": [
    "iamRoot='/root/datasets/iam_handwriting/'\n",
    "irsRoot='/root/datasets/irs_handwriting/'\n",
    "targ_dir='/root/datasets/artifact_images_noins_lbw_biameyd_sprt/' # intersect won't be labeled as positive  04/12/2019\n",
    "test_dir='/root/datasets/artifact_images_noins_lbw_biameyd_sprt/'\n",
    "if not os.path.exists(targ_dir):\n",
    "    os.mkdir(targ_dir)\n",
    "if not os.path.exists(targ_dir+'images'):\n",
    "    os.mkdir(targ_dir+'images')\n",
    "if not os.path.exists(targ_dir+'labels'):\n",
    "    os.mkdir(targ_dir+'labels')\n",
    "orig_paths=glob(join(iamRoot,'words','**/**/**.png'))+glob(join(htrAssetsRoot,'crowdsource/processed/**/**.jpg'))"
   ]
  },
  {
   "cell_type": "code",
   "execution_count": 7,
   "metadata": {},
   "outputs": [
    {
     "data": {
      "text/plain": [
       "127395"
      ]
     },
     "execution_count": 7,
     "metadata": {},
     "output_type": "execute_result"
    }
   ],
   "source": [
    "len(orig_paths)"
   ]
  },
  {
   "cell_type": "code",
   "execution_count": 8,
   "metadata": {},
   "outputs": [],
   "source": [
    "#iamRoot='/root/datasets/iam_handwriting/'\n",
    "#irsRoot='/root/datasets/irs_handwriting/'\n",
    "prtRoot='/root/datasets/img_print_single/'\n",
    "htrAssetsRoot='/root/datasets/htr_assets/'\n",
    "\n",
    "#iam_imgs=glob(join(iamRoot,'words','**/**/**.png'))\n",
    "#irs_imgs=glob(join(irsRoot,'**/**/**.jpg'))\n",
    "#ey_imgs=glob(join(htrAssetsRoot,'crowdsource/processed/**/**.jpg'))\n",
    "prt_imgs=glob(join(prtRoot,'**/**.jpg'))\n",
    "\n",
    "# Use iam+ey_imgs\n",
    "patchSpuWordsFiles=prt_imgs\n"
   ]
  },
  {
   "cell_type": "code",
   "execution_count": null,
   "metadata": {},
   "outputs": [],
   "source": [
    "with open(targ_dir+'databook.txt','w') as f:\n",
    "    ct=0\n",
    "    for path in orig_paths:\n",
    "        print(ct)\n",
    "        img=cv2.imread(path,0)\n",
    "        if img is None or np.min(img.shape) <= 1:\n",
    "            continue\n",
    "        ct+=1\n",
    "        img=cv2.resize(img, (128,32), interpolation=cv2.INTER_CUBIC)\n",
    "        nlst=path.replace(' ','_').split('/')\n",
    "        gt=nlst[-1].split('.')[0]\n",
    "        new_name='___'.join(nlst[-2:]) #use '#^#' as '/'\n",
    "        #print(new_name)\n",
    "\n",
    "        if rand() < .50:\n",
    "            img_a,imLabelA = merge_patch_box_random(img, centroid_std=.03)\n",
    "            img_b,imLabelS = merge_patch_words_random(img_a, patchSpuWordsFiles,centroid_std=.03)\n",
    "            imLabel=((imLabelA + imLabelS)>=1).astype(int)\n",
    "        else:\n",
    "            img_a,imLabelA = merge_patch_horiz_random(img, centroid_std=.05)\n",
    "            img_b,imLabelS = merge_patch_words_random(img_a, patchSpuWordsFiles,centroid_std=.03)\n",
    "            imLabel=((imLabelA + imLabelS)>=1).astype(int)\n",
    "        #if ct>=1:\n",
    "        #    break\n",
    "        cv2.imwrite(targ_dir+'images/'+new_name,img_b)\n",
    "        cv2.imwrite(targ_dir+'labels/'+new_name,imLabel)\n",
    "        f.write(' '.join((targ_dir+'images/'+new_name,targ_dir+'labels/'+new_name,gt))+'\\n')"
   ]
  },
  {
   "cell_type": "markdown",
   "metadata": {},
   "source": [
    "### Sample Results"
   ]
  },
  {
   "cell_type": "code",
   "execution_count": null,
   "metadata": {},
   "outputs": [],
   "source": [
    "with open(targ_dir+'databook.txt','r') as f:\n",
    "    lines=f.readlines()\n",
    "lines=[ l.strip('\\n').split() for l in lines]\n",
    "\n",
    "for idx in range(20):\n",
    "    row_num=randint(0,len(lines)+1)\n",
    "    print(row_num)\n",
    "    #print(lines[row_num])\n",
    "    sample_combined=cv2.imread(lines[row_num][0],0)\n",
    "    sample_label=cv2.imread(lines[row_num][1],0)\n",
    "\n",
    "    cv2.imwrite(test_dir+'combined_image_'+str(idx)+'.jpg',sample_combined)\n",
    "    cv2.imwrite(test_dir+'combined_label_'+str(idx)+'.jpg',sample_label*255)"
   ]
  },
  {
   "cell_type": "code",
   "execution_count": null,
   "metadata": {},
   "outputs": [],
   "source": []
  }
 ],
 "metadata": {
  "kernelspec": {
   "display_name": "Python 3",
   "language": "python",
   "name": "python3"
  },
  "language_info": {
   "codemirror_mode": {
    "name": "ipython",
    "version": 3
   },
   "file_extension": ".py",
   "mimetype": "text/x-python",
   "name": "python",
   "nbconvert_exporter": "python",
   "pygments_lexer": "ipython3",
   "version": "3.5.2"
  }
 },
 "nbformat": 4,
 "nbformat_minor": 2
}
