{
 "cells": [
  {
   "cell_type": "code",
   "execution_count": 1,
   "metadata": {},
   "outputs": [],
   "source": [
    "experiment=None"
   ]
  },
  {
   "cell_type": "code",
   "execution_count": 1,
   "metadata": {},
   "outputs": [
    {
     "name": "stderr",
     "output_type": "stream",
     "text": [
      "COMET INFO: old comet version (1.0.44) detected. current: 2.0.5 please update your comet lib with command: `pip install --no-cache-dir --upgrade comet_ml`\n",
      "COMET WARNING: Failing to collect the installed os packages\n",
      "COMET INFO: Experiment is live on comet.ml https://www.comet.ml/yikeqicn/segnet-recognition-joint/fe06a5a3a20f43dcb29bb17ee08f9bd1\n",
      "\n"
     ]
    }
   ],
   "source": [
    "#Imports\n",
    "from comet_ml import Experiment\n",
    "experiment = Experiment(api_key=\"YkPEmantOag1R1VOJmXz11hmt\", parse_args=False, project_name='SegNet_Recognition_Joint')"
   ]
  },
  {
   "cell_type": "code",
   "execution_count": 2,
   "metadata": {},
   "outputs": [],
   "source": [
    "from datasets_seg import *#IRSPRT#RecgArtPrintNoIntsectHVBW\n",
    "import pytesseract as pyt\n",
    "from os.path import join, basename, dirname\n",
    "import tensorflow as tf\n",
    "import shutil\n",
    "import os\n",
    "import sys\n",
    "import argparse\n",
    "from glob import glob\n",
    "import cv2\n",
    "import numpy as np\n",
    "import os\n",
    "import time\n",
    "from PIL import Image\n",
    "import editdistance\n",
    "\n",
    "from torch.utils.data import DataLoader, ConcatDataset, random_split#, SequentialSampler #yike: add SequentialSampler\n",
    "import torch\n",
    "import torchvision\n",
    "import torchvision.transforms as transforms\n",
    "#from datasets import IRS #ArtPrintNoIntsectLBW,ArtPrintNoIntsectLBW_biameyd_siameyd,ArtPrintNoIntsectLBW_bpr_spr,ArtPrintNoIntsectLBW_biameyd_sprt\n",
    "from Model_Unet_github import *\n",
    "from utils import *\n",
    "\n",
    "from recognition.Model import RecgModel, DecoderType\n",
    "#from recognition.utils import log_image\n",
    "\n",
    "home = os.environ['HOME']"
   ]
  },
  {
   "cell_type": "markdown",
   "metadata": {},
   "source": [
    "# Segnet"
   ]
  },
  {
   "cell_type": "code",
   "execution_count": 3,
   "metadata": {},
   "outputs": [
    {
     "data": {
      "text/plain": [
       "_StoreAction(option_strings=['-urlTranferFrom'], dest='urlTranferFrom', nargs=None, const=None, default='', type=<class 'str'>, choices=None, help=' archived model url ', metavar=None)"
      ]
     },
     "execution_count": 3,
     "metadata": {},
     "output_type": "execute_result"
    }
   ],
   "source": [
    "#General Settings\n",
    "parser = argparse.ArgumentParser()\n",
    "\n",
    "# system basics\n",
    "#parser.add_argument(\"-name\", default='segnet_unet_hvbw_all_combine_100_epoches', type=str, help=\"name of the log\") #debug model_intersect # segnet_no_intersect_1conv_64_channels_30epoch_unet_github\n",
    "parser.add_argument(\"-name\", default='segnet_unet_hvbw_all_combine_100_epoches', type=str, help=\"name of the log\") #debug model_intersect # segnet_no_intersect_1conv_64_channels_30epoch_unet_github\n",
    "\n",
    "parser.add_argument(\"-gpu\", default='-1', type=str, help=\"gpu numbers\")\n",
    "\n",
    "parser.add_argument(\"-train\", default=False, help=\"train the NN\", action=\"store_true\")\n",
    "\n",
    "parser.add_argument(\"-transfer\",default=False, help=\"test the NN\", action=\"store_true\")\n",
    "\n",
    "parser.add_argument(\"-test\",default=True, help=\"test the NN\", action=\"store_true\")\n",
    "\n",
    "# image and logistic parameters \n",
    "parser.add_argument(\"-image_h\", default=32, type=int, help='image height') #('image_h', \"360\", \"\"\" image height \"\"\") 32\n",
    "parser.add_argument(\"-image_w\", default=128, type=int, help='image width')#('image_w', \"480\", \"\"\" image width \"\"\")128\n",
    "#parser.add_argument(\"-image_h\", default=360, type=int, help='image height') \n",
    "#parser.add_argument(\"-image_w\", default=480, type=int, help='image width')\n",
    "\n",
    "parser.add_argument(\"-image_c\", default=1, type=int, help='image channel')#('image_c', \"3\", \"\"\" image channel (RGB) \"\"\")\n",
    "parser.add_argument(\"-num_class\", default=2, type=int, help='total class number')\n",
    "\n",
    "# training hyperparam\n",
    "parser.add_argument(\"-batch_size\", default=10, type=int, help='batch_size')\n",
    "parser.add_argument(\"-lrInit\", default=1e-3, type=int, help='initial lr')\n",
    "parser.add_argument(\"-lrDrop1\", default=10, type=int, help='step to drop lr by 10 first time') # not sure\n",
    "parser.add_argument(\"-lrDrop2\", default=1000, type=int, help='step to drop lr by 10 sexond time') # not sure\n",
    "parser.add_argument('-max_epoch',default=100, type=int,help='max epoch numbers')\n",
    "\n",
    "\n",
    "\n",
    "# file paths\n",
    "parser.add_argument('-ckpt_root', default=\"/root/ckpt\", type=str,help= \"dir to store ckpt\") # log_dir !!!!!\n",
    "parser.add_argument('-data_root', default=\"/root/datasets\", type=str, help=\" root to any data folder \")\n",
    "parser.add_argument('-urlTranferFrom', default=\"\", type=str, help=\" archived model url \")\n",
    "\n",
    "\n",
    "#args = parser.parse_args()\n",
    "\n"
   ]
  },
  {
   "cell_type": "markdown",
   "metadata": {},
   "source": [
    "# Recognition\n",
    "\n"
   ]
  },
  {
   "cell_type": "code",
   "execution_count": 4,
   "metadata": {},
   "outputs": [],
   "source": [
    "# Recognition Model\n",
    "# basic operations\n",
    "parser.add_argument(\"-recg_name\", default='dense_128_32_noartifact_beamsearch_5_datasets', type=str, help=\"name of the log\")\n",
    "#parser.add_argument(\"-gpu\", default='-1', type=str, help=\"gpu numbers\")\n",
    "#parser.add_argument(\"-train\", help=\"train the NN\", action=\"store_true\")\n",
    "#parser.add_argument(\"-validate\", help=\"validate the NN\", action=\"store_true\")\n",
    "#parser.add_argument(\"-transfer\", action=\"store_true\")\n",
    "#actually not effective:\n",
    "parser.add_argument(\"-batchesTrained\", default=0, type=int, help='number of batches already trained (for lr schedule)') \n",
    "# beam search\n",
    "parser.add_argument(\"-beamsearch\", help=\"use beam search instead of best path decoding\",default=True, action=\"store_true\")\n",
    "parser.add_argument(\"-wordbeamsearch\", help=\"use word beam search instead of best path decoding\", action=\"store_true\")\n",
    "# training hyperparam\n",
    "parser.add_argument(\"-batchsize\", default=10, type=int, help='batch size') # actually not effective in infrerence\n",
    "#parser.add_argument(\"-lrInit\", default=1e-2, type=float, help='initial learning rate') # actually not effective\n",
    "parser.add_argument(\"-optimizer\", default='rmsprop', help=\"adam, rmsprop, momentum\") # actually not effective\n",
    "parser.add_argument(\"-wdec\", default=1e-4, type=float, help='weight decay') # acctually not effective\n",
    "#parser.add_argument(\"-lrDrop1\", default=10, type=int, help='step to drop lr by 10 first time')\n",
    "#parser.add_argument(\"-lrDrop2\", default=1000, type=int, help='step to drop lr by 10 sexond time')\n",
    "#parser.add_argument(\"-epochEnd\", default=40, type=int, help='end after this many epochs')\n",
    "# trainset hyperparam\n",
    "#parser.add_argument(\"-noncustom\", help=\"noncustom (original) augmentation technique\", action=\"store_true\")\n",
    "#parser.add_argument(\"-noartifact\", help=\"dont insert artifcats\", action=\"store_true\")\n",
    "#parser.add_argument(\"-iam\", help='use iam dataset', action='store_true')\n",
    "# densenet hyperparam\n",
    "parser.add_argument(\"-nondensenet\", help=\"use noncustom (original) vanilla cnn\", action=\"store_true\")\n",
    "parser.add_argument(\"-growth_rate\", default=12, type=int, help='growth rate (k)')\n",
    "parser.add_argument(\"-layers_per_block\", default=18, type=int, help='number of layers per block')\n",
    "parser.add_argument(\"-total_blocks\", default=5, type=int, help='nuber of densenet blocks')\n",
    "parser.add_argument(\"-keep_prob\", default=1, type=float, help='keep probability in dropout')\n",
    "parser.add_argument(\"-reduction\", default=0.4, type=float, help='reduction factor in 1x1 conv in transition layers')\n",
    "parser.add_argument(\"-bc_mode\", default=True, type=bool, help=\"bottleneck and compresssion mode\")\n",
    "# rnn,  hyperparams\n",
    "parser.add_argument(\"-rnndim\", default=256, type=int, help='rnn dimenstionality') #256\n",
    "parser.add_argument(\"-rnnsteps\", default=32, type=int, help='number of desired time steps (image slices) to feed rnn')\n",
    "# img size\n",
    "parser.add_argument(\"-imgsize\", default=[128,32], type=int, nargs='+') #qyk default 128,32\n",
    "# testset crop\n",
    "#parser.add_argument(\"-crop_r1\", default=3, type=int)\n",
    "#parser.add_argument(\"-crop_r2\", default=28, type=int)\n",
    "#parser.add_argument(\"-crop_c1\", default=10, type=int)\n",
    "#parser.add_argument(\"-crop_c2\", default=115, type=int)\n",
    "# filepaths\n",
    "#parser.add_argument(\"-dataroot\", default='/root/datasets', type=str)\n",
    "#######parser.add_argument(\"-ckptroot\", default='/root/ckpt', type=str)##############\n",
    "#parser.add_argument(\"-urlTransferFrom\", default=None, type=str)\n",
    "\n",
    "args = parser.parse_known_args()[0]\n",
    "\n",
    "### SegNet\n",
    "home = os.environ['HOME']\n",
    "name = args.name\n",
    "ckptroot = join(home, 'ckpt')\n",
    "args.ckptpath = join(ckptroot, name)\n",
    "os.environ['CUDA_VISIBLE_DEVICES'] = args.gpu\n",
    "\n",
    "####args = parser.parse_known_args()[0]\n",
    "\n",
    "name = args.name\n",
    "\n",
    "#experiment.set_name('Recognition_IAMspurious_hvbw_Inhouse_dilate')\n",
    "#experiment.log_parameters(vars(args))\n",
    "\n",
    "########os.environ['CUDA_VISIBLE_DEVICES'] = args.gpu\n",
    "\n",
    "ckptroot = args.ckpt_root\n",
    "args.ckptpath = join(ckptroot, name)\n",
    "if args.name=='debug': shutil.rmtree(args.ckptpath, ignore_errors=True)\n",
    "os.makedirs(args.ckptpath, exist_ok=True)\n",
    "\n",
    "recg_name=args.recg_name\n",
    "args.regckptpath=join(ckptroot,recg_name)"
   ]
  },
  {
   "cell_type": "markdown",
   "metadata": {},
   "source": [
    "# Dataset"
   ]
  },
  {
   "cell_type": "code",
   "execution_count": 5,
   "metadata": {},
   "outputs": [],
   "source": [
    "transform_train = transforms.Compose([\n",
    "    transforms.Lambda(lambda img: cv2.resize(img, (args.image_w,args.image_h), interpolation=cv2.INTER_CUBIC)),\n",
    "    transforms.Lambda(lambda img: np.expand_dims(img,3) ),\n",
    "    #transforms.Lambda(lambda img: add_artifacts(img,args)),\n",
    "    #transforms.Lambda(lambda img: cv2.transpose(img))\n",
    "    ])\n",
    "testset=ArtPrintNoIntsectHVBW_biameyd_siameyd_5000(args.data_root, transform=transform_train)\n",
    "testloader = DataLoader(testset, batch_size=args.batch_size, shuffle=False, drop_last=False,num_workers=2)"
   ]
  },
  {
   "cell_type": "code",
   "execution_count": 6,
   "metadata": {},
   "outputs": [
    {
     "data": {
      "text/plain": [
       "5000"
      ]
     },
     "execution_count": 6,
     "metadata": {},
     "output_type": "execute_result"
    }
   ],
   "source": [
    "len(testset)"
   ]
  },
  {
   "cell_type": "markdown",
   "metadata": {},
   "source": [
    "# Testing"
   ]
  },
  {
   "cell_type": "code",
   "execution_count": 9,
   "metadata": {},
   "outputs": [],
   "source": [
    "experiment.set_name('Recognition_IAMspurious_hvbw_Inhouse_dilate')\n",
    "experiment.log_parameters(vars(args))"
   ]
  },
  {
   "cell_type": "code",
   "execution_count": 10,
   "metadata": {},
   "outputs": [
    {
     "name": "stderr",
     "output_type": "stream",
     "text": [
      "/usr/local/lib/python3.5/dist-packages/ipykernel_launcher.py:3: DeprecationWarning: Both axis > a.ndim and axis < -a.ndim - 1 are deprecated and will raise an AxisError in the future.\n",
      "  This is separate from the ipykernel package so we can avoid doing imports until\n",
      "/usr/local/lib/python3.5/dist-packages/ipykernel_launcher.py:3: DeprecationWarning: Both axis > a.ndim and axis < -a.ndim - 1 are deprecated and will raise an AxisError in the future.\n",
      "  This is separate from the ipykernel package so we can avoid doing imports until\n"
     ]
    },
    {
     "name": "stdout",
     "output_type": "stream",
     "text": [
      "0.0\n"
     ]
    },
    {
     "name": "stderr",
     "output_type": "stream",
     "text": [
      "COMET ERROR: File could not be uploaded\n"
     ]
    },
    {
     "name": "stdout",
     "output_type": "stream",
     "text": [
      "0.02\n",
      "0.04\n",
      "0.06\n",
      "0.08\n",
      "VALID: Character error rate: 48.966766%. Word accuracy: 21.600000%.\n",
      "VALID: Cleaned Character error rate: 28.578611%. Cleaned Word accuracy: 52.800000%.\n"
     ]
    },
    {
     "data": {
      "image/png": "[encoded data removed]",
      "text/plain": [
       "<matplotlib.figure.Figure at 0x7f01ff5efd68>"
      ]
     },
     "metadata": {
      "needs_background": "light"
     },
     "output_type": "display_data"
    }
   ],
   "source": [
    "  upload=True\n",
    "  numCharErr, numCharTotal, numWordOK, numWordTotal = 0, 0, 0, 0\n",
    "  numCharErrClean, numWordOKClean = 0, 0\n",
    "  #plt.figure(figsize=(6,2))\n",
    "  counter = 0\n",
    "  '''\n",
    "  yike: convert to troch dataloader, test\n",
    "  '''\n",
    "  lenidx=len(testset)\n",
    "  kernel = np.ones((2,2), np.uint8)\n",
    "  for idx, (images,_, labels) in enumerate(testloader):\n",
    "    \n",
    "    if np.mod(idx,100)==0:\n",
    "      print(str(idx/lenidx))\n",
    "    images=images.numpy()\n",
    "    cleaned_list=model.imageClean2(images)\n",
    "    cleaned_list=list(map(lambda x: cv2.erode(cv2.dilate(x.astype(np.dtype('uint8')), kernel, iterations=1),kernel,iterations=1) ,cleaned_list))\n",
    "    \n",
    "    recognizeds=model_recg.inferBatch(list(map(lambda x:np.squeeze(x).transpose(),images)))\n",
    "    \n",
    "    recognizedsClean=model_recg.inferBatch(list(map(lambda x:np.squeeze(x).transpose(),cleaned_list)))\n",
    "    \n",
    "    #print(images[0].shape)\n",
    "    #print(cleaned_list[0].shape)\n",
    "    for img,img_cl,label,rec,rec_cl in zip(images,cleaned_list,labels,recognizeds,recognizedsClean):\n",
    "        #img=np.squeeze(img)\n",
    "        #img_cl= np.squeeze(img_cl).astype(np.dtype('uint8'))\n",
    "        #img_pil=Image.fromarray(img)\n",
    "        #img_cl_pil=Image.fromarray(img_cl)\n",
    "        #rec=pyt.image_to_string(img_pil,config='-psm 7') #8\n",
    "        #rec_cl=pyt.image_to_string(img_cl_pil,config='-psm 7')#8\n",
    "        img=np.squeeze(img)\n",
    "        \n",
    "        numWordOK += 1 if label == rec else 0 #batch.gtTexts[i]\n",
    "        numWordTotal += 1\n",
    "        dist0 = editdistance.eval(rec, label)# batch.gtTexts[i])\n",
    "        numCharErr += dist0\n",
    "        numCharTotal += len(label)\n",
    "        \n",
    "        numWordOKClean += 1 if label == rec_cl else 0 #batch.gtTexts[i]\n",
    "        #numWordTotal += 1\n",
    "        dist1 = editdistance.eval(rec_cl, label)# batch.gtTexts[i])\n",
    "        numCharErrClean+= dist1\n",
    "        #numCharTotal += len(labels)\n",
    "        \n",
    "        if upload and counter<2000: # log images\n",
    "            im_save=np.concatenate((img,img_cl),axis=1)\n",
    "            text = ' '.join(['[OK]' if dist1 == 0 else '[ERR:%d]' % dist1,'<=','[OK]' if dist0 == 0 else '[ERR:%d]' % dist0,': ' ,'\"' + label + '\"', '->', '\"' + rec + '\"', '->', '\"' + rec_cl + '\"'])\n",
    "            log_image2(experiment, im_save, text, 'test_remove_artifacts', args.ckptpath, counter)\n",
    "        \n",
    "        \n",
    "        counter+=1\n",
    "        \n",
    "\n",
    "  charErrorRate = numCharErr / numCharTotal\n",
    "  wordAccuracy = numWordOK / numWordTotal\n",
    "  charErrorRateClean = numCharErrClean / numCharTotal\n",
    "  wordAccuracyClean = numWordOKClean / numWordTotal\n",
    "  print('VALID: Character error rate: %f%%. Word accuracy: %f%%.' % (charErrorRate * 100.0, wordAccuracy * 100.0))\n",
    "  print('VALID: Cleaned Character error rate: %f%%. Cleaned Word accuracy: %f%%.' % (charErrorRateClean * 100.0, wordAccuracyClean * 100.0))\n",
    "  experiment.log_metric('valid/raw/cer', charErrorRate)#, step)\n",
    "  experiment.log_metric('valid/raw/wer', 1-wordAccuracy)#, step)\n",
    "  experiment.log_metric('valid/clean/cer', charErrorRateClean)#, step)\n",
    "  experiment.log_metric('valid/clean/wer', 1-wordAccuracyClean)#, step)\n",
    "\n",
    "        \n",
    "        #print(counter)\n",
    "        #print(label)\n",
    "        #print(rec)\n",
    "        #print(rec_cl)\n",
    "        #print(' ')\n",
    "    #break\n",
    "    \n"
   ]
  },
  {
   "cell_type": "markdown",
   "metadata": {},
   "source": [
    "# Model Initiate"
   ]
  },
  {
   "cell_type": "code",
   "execution_count": 7,
   "metadata": {},
   "outputs": [
    {
     "name": "stdout",
     "output_type": "stream",
     "text": [
      "WARNING:tensorflow:From /usr/local/lib/python3.5/dist-packages/tensorflow/python/framework/op_def_library.py:263: colocate_with (from tensorflow.python.framework.ops) is deprecated and will be removed in a future version.\n",
      "Instructions for updating:\n",
      "Colocations handled automatically by placer.\n",
      "GGG\n",
      "[None, 32, 128, 1]\n",
      "WARNING:tensorflow:From /root/Engagements/Unet_Recognition_Joint/src/Model_Unet_github.py:49: calling dropout (from tensorflow.python.ops.nn_ops) with keep_prob is deprecated and will be removed in a future version.\n",
      "Instructions for updating:\n",
      "Please use `rate` instead of `keep_prob`. Rate should be set to `rate = 1 - keep_prob`.\n"
     ]
    },
    {
     "name": "stderr",
     "output_type": "stream",
     "text": [
      "WARNING:tensorflow:From /root/Engagements/Unet_Recognition_Joint/src/Model_Unet_github.py:49: calling dropout (from tensorflow.python.ops.nn_ops) with keep_prob is deprecated and will be removed in a future version.\n",
      "Instructions for updating:\n",
      "Please use `rate` instead of `keep_prob`. Rate should be set to `rate = 1 - keep_prob`.\n"
     ]
    },
    {
     "name": "stdout",
     "output_type": "stream",
     "text": [
      "WARNING:tensorflow:From /usr/local/lib/python3.5/dist-packages/tensorflow/python/ops/nn_ops.py:3042: div (from tensorflow.python.ops.math_ops) is deprecated and will be removed in a future version.\n",
      "Instructions for updating:\n",
      "Deprecated in favor of operator or tf.math.divide.\n"
     ]
    },
    {
     "name": "stderr",
     "output_type": "stream",
     "text": [
      "WARNING:tensorflow:From /usr/local/lib/python3.5/dist-packages/tensorflow/python/ops/nn_ops.py:3042: div (from tensorflow.python.ops.math_ops) is deprecated and will be removed in a future version.\n",
      "Instructions for updating:\n",
      "Deprecated in favor of operator or tf.math.divide.\n"
     ]
    },
    {
     "name": "stdout",
     "output_type": "stream",
     "text": [
      "0 conv1: (?, ?, ?, 32)\n",
      "0 conv2: (?, ?, ?, 32)\n",
      "1 conv1: (?, ?, ?, 64)\n",
      "1 conv2: (?, ?, ?, 64)\n",
      "2 conv1: (?, ?, ?, 128)\n",
      "2 conv2: (?, ?, ?, 128)\n",
      "1 h_deconv: (?, ?, ?, 64)\n",
      "1 h_deconv_concat: (?, ?, ?, ?)\n",
      "1 h_conv1_post_deconv: (?, ?, ?, 64)\n",
      "1 h_conv2_post_deconv: (?, ?, ?, 64)\n",
      "0 h_deconv: (?, ?, ?, 32)\n",
      "0 h_deconv_concat: (?, ?, ?, ?)\n",
      "0 h_conv1_post_deconv: (?, ?, ?, 32)\n",
      "0 h_conv2_post_deconv: (?, ?, ?, 32)\n",
      "0 outmap: (?, ?, ?, 2)\n",
      "(?, ?, ?, 2)\n",
      "loss: ()\n",
      "INFO:tensorflow:Summary name loss/cross_entropy (raw) is illegal; using loss/cross_entropy__raw_ instead.\n"
     ]
    },
    {
     "name": "stderr",
     "output_type": "stream",
     "text": [
      "INFO:tensorflow:Summary name loss/cross_entropy (raw) is illegal; using loss/cross_entropy__raw_ instead.\n"
     ]
    },
    {
     "name": "stdout",
     "output_type": "stream",
     "text": [
      "INFO:tensorflow:Summary name loss/total_loss (raw) is illegal; using loss/total_loss__raw_ instead.\n"
     ]
    },
    {
     "name": "stderr",
     "output_type": "stream",
     "text": [
      "INFO:tensorflow:Summary name loss/total_loss (raw) is illegal; using loss/total_loss__raw_ instead.\n",
      "COMET ERROR: Failed to extract parameters from Estimator.init()\n"
     ]
    },
    {
     "name": "stdout",
     "output_type": "stream",
     "text": [
      "toto_loss_shape: Tensor(\"loss/total_loss:0\", shape=(), dtype=float32)\n",
      "WARNING:tensorflow:From /usr/local/lib/python3.5/dist-packages/tensorflow/python/ops/math_ops.py:3197: to_int32 (from tensorflow.python.ops.math_ops) is deprecated and will be removed in a future version.\n",
      "Instructions for updating:\n",
      "Use tf.cast instead.\n"
     ]
    },
    {
     "name": "stderr",
     "output_type": "stream",
     "text": [
      "WARNING:tensorflow:From /usr/local/lib/python3.5/dist-packages/tensorflow/python/ops/math_ops.py:3197: to_int32 (from tensorflow.python.ops.math_ops) is deprecated and will be removed in a future version.\n",
      "Instructions for updating:\n",
      "Use tf.cast instead.\n"
     ]
    },
    {
     "name": "stdout",
     "output_type": "stream",
     "text": [
      "Python: 3.5.2 (default, Nov 12 2018, 13:43:14) \n",
      "[GCC 5.4.0 20160609]\n",
      "Tensorflow: 1.12.0-rc0\n",
      "WARNING:tensorflow:From /usr/local/lib/python3.5/dist-packages/tensorflow/python/training/saver.py:1557: checkpoint_exists (from tensorflow.python.training.checkpoint_management) is deprecated and will be removed in a future version.\n",
      "Instructions for updating:\n",
      "Use standard file APIs to check for files with this prefix.\n"
     ]
    },
    {
     "name": "stderr",
     "output_type": "stream",
     "text": [
      "WARNING:tensorflow:From /usr/local/lib/python3.5/dist-packages/tensorflow/python/training/saver.py:1557: checkpoint_exists (from tensorflow.python.training.checkpoint_management) is deprecated and will be removed in a future version.\n",
      "Instructions for updating:\n",
      "Use standard file APIs to check for files with this prefix.\n"
     ]
    },
    {
     "name": "stdout",
     "output_type": "stream",
     "text": [
      "INFO:tensorflow:Restoring parameters from /root/ckpt/segnet_unet_hvbw_all_combine_100_epoches/model-51\n"
     ]
    },
    {
     "name": "stderr",
     "output_type": "stream",
     "text": [
      "INFO:tensorflow:Restoring parameters from /root/ckpt/segnet_unet_hvbw_all_combine_100_epoches/model-51\n"
     ]
    },
    {
     "name": "stdout",
     "output_type": "stream",
     "text": [
      "Init with stored values from /root/ckpt/segnet_unet_hvbw_all_combine_100_epoches/model-51\n"
     ]
    }
   ],
   "source": [
    "model=Model(args, experiment, loss_weight=[0.5,0.5], mustRestore=False)"
   ]
  },
  {
   "cell_type": "code",
   "execution_count": 8,
   "metadata": {},
   "outputs": [
    {
     "name": "stdout",
     "output_type": "stream",
     "text": [
      "shape of cnn input: [None, 128, 32]\n",
      "Build Densenet4htr model with 5 blocks, 9 bottleneck layers and 9 composite layers each.\n",
      "Depth: 96\n",
      "Reduction at transition layers: 0.4\n",
      "densenet feature extractor graph built in (sec): 7.422181129455566\n",
      "Total training params: 0.5M\n",
      "shape of cnn output: [None, 32, 1, 178]\n",
      "WARNING:tensorflow:From /root/Engagements/Unet_Recognition_Joint/src/recognition/Model.py:103: LSTMCell.__init__ (from tensorflow.python.ops.rnn_cell_impl) is deprecated and will be removed in a future version.\n",
      "Instructions for updating:\n",
      "This class is equivalent as tf.keras.layers.LSTMCell, and will be replaced by that in Tensorflow 2.0.\n"
     ]
    },
    {
     "name": "stderr",
     "output_type": "stream",
     "text": [
      "WARNING:tensorflow:From /root/Engagements/Unet_Recognition_Joint/src/recognition/Model.py:103: LSTMCell.__init__ (from tensorflow.python.ops.rnn_cell_impl) is deprecated and will be removed in a future version.\n",
      "Instructions for updating:\n",
      "This class is equivalent as tf.keras.layers.LSTMCell, and will be replaced by that in Tensorflow 2.0.\n"
     ]
    },
    {
     "name": "stdout",
     "output_type": "stream",
     "text": [
      "WARNING:tensorflow:From /root/Engagements/Unet_Recognition_Joint/src/recognition/Model.py:106: MultiRNNCell.__init__ (from tensorflow.python.ops.rnn_cell_impl) is deprecated and will be removed in a future version.\n",
      "Instructions for updating:\n",
      "This class is equivalent as tf.keras.layers.StackedRNNCells, and will be replaced by that in Tensorflow 2.0.\n"
     ]
    },
    {
     "name": "stderr",
     "output_type": "stream",
     "text": [
      "WARNING:tensorflow:From /root/Engagements/Unet_Recognition_Joint/src/recognition/Model.py:106: MultiRNNCell.__init__ (from tensorflow.python.ops.rnn_cell_impl) is deprecated and will be removed in a future version.\n",
      "Instructions for updating:\n",
      "This class is equivalent as tf.keras.layers.StackedRNNCells, and will be replaced by that in Tensorflow 2.0.\n"
     ]
    },
    {
     "name": "stdout",
     "output_type": "stream",
     "text": [
      "WARNING:tensorflow:From /root/Engagements/Unet_Recognition_Joint/src/recognition/Model.py:111: bidirectional_dynamic_rnn (from tensorflow.python.ops.rnn) is deprecated and will be removed in a future version.\n",
      "Instructions for updating:\n",
      "Please use `keras.layers.Bidirectional(keras.layers.RNN(cell))`, which is equivalent to this API\n"
     ]
    },
    {
     "name": "stderr",
     "output_type": "stream",
     "text": [
      "WARNING:tensorflow:From /root/Engagements/Unet_Recognition_Joint/src/recognition/Model.py:111: bidirectional_dynamic_rnn (from tensorflow.python.ops.rnn) is deprecated and will be removed in a future version.\n",
      "Instructions for updating:\n",
      "Please use `keras.layers.Bidirectional(keras.layers.RNN(cell))`, which is equivalent to this API\n"
     ]
    },
    {
     "name": "stdout",
     "output_type": "stream",
     "text": [
      "WARNING:tensorflow:From /usr/local/lib/python3.5/dist-packages/tensorflow/python/ops/rnn.py:443: dynamic_rnn (from tensorflow.python.ops.rnn) is deprecated and will be removed in a future version.\n",
      "Instructions for updating:\n",
      "Please use `keras.layers.RNN(cell)`, which is equivalent to this API\n"
     ]
    },
    {
     "name": "stderr",
     "output_type": "stream",
     "text": [
      "WARNING:tensorflow:From /usr/local/lib/python3.5/dist-packages/tensorflow/python/ops/rnn.py:443: dynamic_rnn (from tensorflow.python.ops.rnn) is deprecated and will be removed in a future version.\n",
      "Instructions for updating:\n",
      "Please use `keras.layers.RNN(cell)`, which is equivalent to this API\n",
      "COMET ERROR: Failed to extract parameters from Estimator.init()\n"
     ]
    },
    {
     "name": "stdout",
     "output_type": "stream",
     "text": [
      "Python: 3.5.2 (default, Nov 12 2018, 13:43:14) \n",
      "[GCC 5.4.0 20160609]\n",
      "Tensorflow: 1.12.0-rc0\n",
      "INFO:tensorflow:Restoring parameters from /root/ckpt/dense_128_32_noartifact_beamsearch_5_datasets/model-35\n"
     ]
    },
    {
     "name": "stderr",
     "output_type": "stream",
     "text": [
      "INFO:tensorflow:Restoring parameters from /root/ckpt/dense_128_32_noartifact_beamsearch_5_datasets/model-35\n"
     ]
    },
    {
     "name": "stdout",
     "output_type": "stream",
     "text": [
      "Init with stored values from /root/ckpt/dense_128_32_noartifact_beamsearch_5_datasets/model-35\n"
     ]
    }
   ],
   "source": [
    "decoderType = DecoderType.BestPath\n",
    "if args.beamsearch:\n",
    "    decoderType = DecoderType.BeamSearch\n",
    "elif args.wordbeamsearch:\n",
    "    decoderType = DecoderType.WordBeamSearch\n",
    "\n",
    "model_recg = RecgModel(args, open(join(args.regckptpath, 'charList.txt')).read(), decoderType, mustRestore=True)"
   ]
  },
  {
   "cell_type": "code",
   "execution_count": null,
   "metadata": {},
   "outputs": [],
   "source": []
  },
  {
   "cell_type": "code",
   "execution_count": null,
   "metadata": {},
   "outputs": [],
   "source": []
  }
 ],
 "metadata": {
  "kernelspec": {
   "display_name": "Python 3",
   "language": "python",
   "name": "python3"
  },
  "language_info": {
   "codemirror_mode": {
    "name": "ipython",
    "version": 3
   },
   "file_extension": ".py",
   "mimetype": "text/x-python",
   "name": "python",
   "nbconvert_exporter": "python",
   "pygments_lexer": "ipython3",
   "version": "3.5.2"
  }
 },
 "nbformat": 4,
 "nbformat_minor": 2
}
