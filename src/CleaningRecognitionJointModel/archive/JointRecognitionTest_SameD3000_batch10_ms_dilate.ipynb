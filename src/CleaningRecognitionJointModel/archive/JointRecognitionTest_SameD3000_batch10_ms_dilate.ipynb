{
 "cells": [
  {
   "cell_type": "code",
   "execution_count": 1,
   "metadata": {},
   "outputs": [],
   "source": [
    "experiment=None"
   ]
  },
  {
   "cell_type": "code",
   "execution_count": 1,
   "metadata": {},
   "outputs": [
    {
     "name": "stderr",
     "output_type": "stream",
     "text": [
      "COMET INFO: old comet version (1.0.44) detected. current: 2.0.5 please update your comet lib with command: `pip install --no-cache-dir --upgrade comet_ml`\n",
      "COMET WARNING: Failing to collect the installed os packages\n",
      "COMET INFO: Experiment is live on comet.ml https://www.comet.ml/yikeqicn/segnet-recognition-joint/4a0029133a5044e08e5e9478aefde3f1\n",
      "\n"
     ]
    }
   ],
   "source": [
    "#Imports\n",
    "from comet_ml import Experiment\n",
    "experiment = Experiment(api_key=\"YkPEmantOag1R1VOJmXz11hmt\", parse_args=False, project_name='SegNet_Recognition_Joint')"
   ]
  },
  {
   "cell_type": "code",
   "execution_count": 2,
   "metadata": {},
   "outputs": [],
   "source": [
    "#from datasets import IRSPRT#RecgArtPrintNoIntsectHVBW\n",
    "import pytesseract as pyt\n",
    "from os.path import join, basename, dirname\n",
    "import tensorflow as tf\n",
    "import shutil\n",
    "import os\n",
    "import sys\n",
    "import argparse\n",
    "from glob import glob\n",
    "import cv2\n",
    "import numpy as np\n",
    "import os\n",
    "import time\n",
    "from PIL import Image\n",
    "import editdistance\n",
    "\n",
    "import requests\n",
    "from wand import *\n",
    "from wand.image import Image as WandImage\n",
    "from wand.color import Color\n",
    "from shutil import copyfile\n",
    "\n",
    "from torch.utils.data import DataLoader, ConcatDataset, random_split#, SequentialSampler #yike: add SequentialSampler\n",
    "import torch\n",
    "import torchvision\n",
    "import torchvision.transforms as transforms\n",
    "#from datasets import IRS #ArtPrintNoIntsectLBW,ArtPrintNoIntsectLBW_biameyd_siameyd,ArtPrintNoIntsectLBW_bpr_spr,ArtPrintNoIntsectLBW_biameyd_sprt\n",
    "############from Model_Unet_github import *\n",
    "from utils_seg import *\n",
    "import utils_recg\n",
    "\n",
    "\n",
    "from Model_Binary_Joint import *\n",
    "############from recognition.Model import RecgModel, DecoderType\n",
    "#from recognition.utils import log_image\n",
    "\n",
    "home = os.environ['HOME']"
   ]
  },
  {
   "cell_type": "markdown",
   "metadata": {},
   "source": [
    "# Segment Parameters"
   ]
  },
  {
   "cell_type": "code",
   "execution_count": 3,
   "metadata": {},
   "outputs": [
    {
     "data": {
      "text/plain": [
       "_StoreAction(option_strings=['-urlTranferFrom'], dest='urlTranferFrom', nargs=None, const=None, default='', type=<class 'str'>, choices=None, help=' archived model url ', metavar=None)"
      ]
     },
     "execution_count": 3,
     "metadata": {},
     "output_type": "execute_result"
    }
   ],
   "source": [
    "#General Settings\n",
    "parser = argparse.ArgumentParser()\n",
    "\n",
    "# system basics\n",
    "#parser.add_argument(\"-name\", default='segnet_unet_hvbw_all_combine_100_epoches', type=str, help=\"name of the log\") #debug model_intersect # segnet_no_intersect_1conv_64_channels_30epoch_unet_github\n",
    "parser.add_argument(\"-name_seg\", default='new_segnet_joint', type=str, help=\"name of the log\") #debug model_intersect # segnet_no_intersect_1conv_64_channels_30epoch_unet_github\n",
    "#segnet_binary_100epoch_unet_github\n",
    "parser.add_argument(\"-gpu\", default='-1', type=str, help=\"gpu numbers\")\n",
    "\n",
    "parser.add_argument(\"-train\", default=False, help=\"train the NN\", action=\"store_true\")\n",
    "parser.add_argument(\"-validate\", help=\"validate the NN\", action=\"store_true\")\n",
    "\n",
    "parser.add_argument(\"-transfer\",default=False, help=\"test the NN\", action=\"store_true\")\n",
    "\n",
    "parser.add_argument(\"-test\",default=True, help=\"test the NN\", action=\"store_true\")\n",
    "\n",
    "# image and logistic parameters \n",
    "parser.add_argument(\"-image_h\", default=32, type=int, help='image height') #('image_h', \"360\", \"\"\" image height \"\"\") 32\n",
    "parser.add_argument(\"-image_w\", default=128, type=int, help='image width')#('image_w', \"480\", \"\"\" image width \"\"\")128\n",
    "#parser.add_argument(\"-image_h\", default=360, type=int, help='image height') \n",
    "#parser.add_argument(\"-image_w\", default=480, type=int, help='image width')\n",
    "\n",
    "parser.add_argument(\"-image_c\", default=1, type=int, help='image channel')#('image_c', \"3\", \"\"\" image channel (RGB) \"\"\")\n",
    "parser.add_argument(\"-num_class\", default=2, type=int, help='total class number')\n",
    "\n",
    "# training hyperparam\n",
    "parser.add_argument(\"-batch_size_seg\", default=10, type=int, help='batch_size')\n",
    "parser.add_argument(\"-lrInit\", default=1e-3, type=int, help='initial lr')\n",
    "parser.add_argument(\"-lrDrop1\", default=10, type=int, help='step to drop lr by 10 first time') # not sure\n",
    "parser.add_argument(\"-lrDrop2\", default=1000, type=int, help='step to drop lr by 10 sexond time') # not sure\n",
    "parser.add_argument('-max_epoch',default=100, type=int,help='max epoch numbers')\n",
    "\n",
    "\n",
    "\n",
    "# file paths\n",
    "parser.add_argument('-ckpt_root', default=\"/root/ckpt\", type=str,help= \"dir to store ckpt\") # log_dir !!!!!\n",
    "parser.add_argument('-data_root', default=\"/root/datasets\", type=str, help=\" root to any data folder \")\n",
    "parser.add_argument('-urlTranferFrom', default=\"\", type=str, help=\" archived model url \")\n",
    "\n",
    "\n",
    "#args = parser.parse_args()\n",
    "\n"
   ]
  },
  {
   "cell_type": "markdown",
   "metadata": {},
   "source": [
    "# Recognition Parameters"
   ]
  },
  {
   "cell_type": "code",
   "execution_count": 4,
   "metadata": {},
   "outputs": [],
   "source": [
    "# Recognition Model\n",
    "# basic operations\n",
    "parser.add_argument(\"-name_recg\", default=\"recg_new_five_datasets\", type=str, help=\"name of the log\") #'dense_128_32_noartifact_beamsearch_5_datasets'\n",
    "#parser.add_argument(\"-gpu\", default='-1', type=str, help=\"gpu numbers\")\n",
    "#parser.add_argument(\"-train\", help=\"train the NN\", action=\"store_true\")\n",
    "#parser.add_argument(\"-validate\", help=\"validate the NN\", action=\"store_true\")\n",
    "#parser.add_argument(\"-transfer\", action=\"store_true\")\n",
    "#actually not effective:\n",
    "parser.add_argument(\"-batchesTrained\", default=0, type=int, help='number of batches already trained (for lr schedule)') \n",
    "# beam search\n",
    "parser.add_argument(\"-beamsearch\", help=\"use beam search instead of best path decoding\",default=True, action=\"store_true\")\n",
    "parser.add_argument(\"-wordbeamsearch\", help=\"use word beam search instead of best path decoding\", action=\"store_true\")\n",
    "# training hyperparam\n",
    "parser.add_argument(\"-batchsize_recg\", default=10, type=int, help='batch size') # actually not effective in infrerence\n",
    "#parser.add_argument(\"-lrInit\", default=1e-2, type=float, help='initial learning rate') # actually not effective\n",
    "parser.add_argument(\"-optimizer\", default='rmsprop', help=\"adam, rmsprop, momentum\") # actually not effective\n",
    "parser.add_argument(\"-wdec\", default=1e-4, type=float, help='weight decay') # acctually not effective\n",
    "#parser.add_argument(\"-lrDrop1\", default=10, type=int, help='step to drop lr by 10 first time')\n",
    "#parser.add_argument(\"-lrDrop2\", default=1000, type=int, help='step to drop lr by 10 sexond time')\n",
    "parser.add_argument(\"-epochEnd\", default=40, type=int, help='end after this many epochs')\n",
    "# trainset hyperparam\n",
    "#parser.add_argument(\"-noncustom\", help=\"noncustom (original) augmentation technique\", action=\"store_true\")\n",
    "#parser.add_argument(\"-noartifact\", help=\"dont insert artifcats\", action=\"store_true\")\n",
    "#parser.add_argument(\"-iam\", help='use iam dataset', action='store_true')\n",
    "# densenet hyperparam\n",
    "parser.add_argument(\"-nondensenet\", help=\"use noncustom (original) vanilla cnn\", action=\"store_true\")\n",
    "parser.add_argument(\"-growth_rate\", default=12, type=int, help='growth rate (k)')\n",
    "parser.add_argument(\"-layers_per_block\", default=18, type=int, help='number of layers per block')\n",
    "parser.add_argument(\"-total_blocks\", default=5, type=int, help='nuber of densenet blocks')\n",
    "parser.add_argument(\"-keep_prob\", default=1, type=float, help='keep probability in dropout')\n",
    "parser.add_argument(\"-reduction\", default=0.4, type=float, help='reduction factor in 1x1 conv in transition layers')\n",
    "parser.add_argument(\"-bc_mode\", default=True, type=bool, help=\"bottleneck and compresssion mode\")\n",
    "# rnn,  hyperparams\n",
    "parser.add_argument(\"-rnndim\", default=256, type=int, help='rnn dimenstionality') #256\n",
    "parser.add_argument(\"-rnnsteps\", default=32, type=int, help='number of desired time steps (image slices) to feed rnn')\n",
    "# img size\n",
    "parser.add_argument(\"-imgsize\", default=[128,32], type=int, nargs='+') #qyk default 128,32 // use segnet definition\n",
    "# testset crop\n",
    "#parser.add_argument(\"-crop_r1\", default=3, type=int)\n",
    "#parser.add_argument(\"-crop_r2\", default=28, type=int)\n",
    "#parser.add_argument(\"-crop_c1\", default=10, type=int)\n",
    "#parser.add_argument(\"-crop_c2\", default=115, type=int)\n",
    "# filepaths\n",
    "parser.add_argument(\"-dataroot\", default='/root/datasets', type=str)\n",
    "#######parser.add_argument(\"-ckptroot\", default='/root/ckpt', type=str)##############\n",
    "#parser.add_argument(\"-urlTransferFrom\", default=None, type=str)\n",
    "\n",
    "args = parser.parse_known_args()[0]\n",
    "\n",
    "### SegNet\n",
    "home = os.environ['HOME']\n",
    "#name = args.name\n",
    "#ckptroot = join(home, 'ckpt')\n",
    "#args.ckptpath = join(ckptroot, name)\n",
    "#os.environ['CUDA_VISIBLE_DEVICES'] = args.gpu\n",
    "\n",
    "####args = parser.parse_known_args()[0]\n",
    "\n",
    "name_seg = args.name_seg\n",
    "name_recg=args.name_recg\n",
    "\n",
    "os.environ['CUDA_VISIBLE_DEVICES'] = args.gpu\n",
    "\n",
    "ckptroot = args.ckpt_root\n",
    "args.ckptpath_seg = join(ckptroot, name_seg)\n",
    "args.ckptpath_recg = join(ckptroot, name_recg)\n",
    "if args.name_seg=='debug_seg_': shutil.rmtree(args.ckptpath_seg, ignore_errors=True)\n",
    "if args.name_recg=='debug_recg_': shutil.rmtree(args.ckptpath_recg, ignore_errors=True)\n",
    "\n",
    "os.makedirs(args.ckptpath_seg, exist_ok=True)\n",
    "os.makedirs(args.ckptpath_recg, exist_ok=True)\n",
    "\n",
    "#recg_name=args.recg_name\n",
    "#args.regckptpath=join(ckptroot,recg_name)"
   ]
  },
  {
   "cell_type": "markdown",
   "metadata": {},
   "source": [
    "# Microsoft OCR"
   ]
  },
  {
   "cell_type": "code",
   "execution_count": 5,
   "metadata": {},
   "outputs": [],
   "source": [
    "#OCRent_list=[]\n",
    "def msOcr(img_byte):\n",
    "    rlt=[]\n",
    "    vision_base_url = \"https://westus.api.cognitive.microsoft.com/vision/v2.0/\"\n",
    "    ocr_url = vision_base_url + \"recognizeText\"\n",
    "    headers = {'Ocp-Apim-Subscription-Key': 'a063cd5d30cf4bad853442124e614303', \"Content-Type\": \"application/octet-stream\"}\n",
    "    params   = {'mode' : 'Printed','detectOrientation ': 'true'}\n",
    "    try:\n",
    "        response = requests.post(ocr_url, headers=headers, params=params, data=img_byte)\n",
    "        response.raise_for_status()\n",
    "        operation_url = response.headers[\"Operation-Location\"]\n",
    "        analysis = {}\n",
    "        while not \"recognitionResult\" in analysis:\n",
    "            response_final = requests.get(response.headers[\"Operation-Location\"], headers=headers)\n",
    "            analysis = response_final.json()\n",
    "            time.sleep(1)\n",
    "            # print(\"analysis................\",analysis)\n",
    "            #word_infos \n",
    "        rlt= [{'boundingBox': line['boundingBox'], 'text': line['text']} for line in analysis[\"recognitionResult\"][\"lines\"]]\n",
    "            #OCRent_list.append(word_infos)\n",
    "        #rlt=[line['text'] for line in analysis[\"recognitionResult\"][\"lines\"]]\n",
    "    except Exception as e:\n",
    "        print(str(e))\n",
    "    if len(rlt)!=0:\n",
    "        return rlt\n",
    "    else:\n",
    "        return ''"
   ]
  },
  {
   "cell_type": "code",
   "execution_count": 6,
   "metadata": {},
   "outputs": [],
   "source": [
    "#OCRent_list=[]\n",
    "#10 batchsize\n",
    "def msOcr2(img_byte):\n",
    "    rlt=['']*10\n",
    "    vision_base_url = \"https://westus.api.cognitive.microsoft.com/vision/v2.0/\"\n",
    "    ocr_url = vision_base_url + \"recognizeText\"\n",
    "    headers = {'Ocp-Apim-Subscription-Key': 'a063cd5d30cf4bad853442124e614303', \"Content-Type\": \"application/octet-stream\"}\n",
    "    params   = {'mode' : 'Printed','detectOrientation ': 'true'}\n",
    "    try:\n",
    "        response = requests.post(ocr_url, headers=headers, params=params, data=img_byte)\n",
    "        response.raise_for_status()\n",
    "        operation_url = response.headers[\"Operation-Location\"]\n",
    "        analysis = {}\n",
    "        while not \"recognitionResult\" in analysis:\n",
    "            response_final = requests.get(response.headers[\"Operation-Location\"], headers=headers)\n",
    "            analysis = response_final.json()\n",
    "            time.sleep(1)\n",
    "            # print(\"analysis................\",analysis)\n",
    "            #rlt = [{'boundingBox': line['boundingBox'], 'text': line['text']} for line in analysis[\"recognitionResult\"][\"lines\"]]\n",
    "            #rlt = [{'pos': line['boundingBox'], 'text': line['text']} for line in analysis[\"recognitionResult\"][\"lines\"]]\n",
    "        for line in analysis[\"recognitionResult\"][\"lines\"]:\n",
    "            rlt[round(line['boundingBox'][1]/32)]=line['text']\n",
    "            #OCRent_list.append(word_infos)\n",
    "        #rlt=[line['text'] for line in analysis[\"recognitionResult\"][\"lines\"]]\n",
    "    except Exception as e:\n",
    "        print(str(e))\n",
    "    return rlt\n",
    "    #if len(rlt)!=0:\n",
    "    #    return rlt\n",
    "    #else:\n",
    "    #    return ''"
   ]
  },
  {
   "cell_type": "markdown",
   "metadata": {},
   "source": [
    "# Dataset"
   ]
  },
  {
   "cell_type": "code",
   "execution_count": 11,
   "metadata": {},
   "outputs": [],
   "source": [
    "experiment.set_name('JointRecognitionTest_SameD3000_MSOCR_batch10_dilate')\n",
    "experiment.log_parameters(vars(args))"
   ]
  },
  {
   "cell_type": "code",
   "execution_count": 12,
   "metadata": {},
   "outputs": [],
   "source": [
    "from datasets_seg import *"
   ]
  },
  {
   "cell_type": "code",
   "execution_count": 13,
   "metadata": {},
   "outputs": [
    {
     "name": "stdout",
     "output_type": "stream",
     "text": [
      "/root/datasets/artifact_images_no_intersect already exists, skipping download\n"
     ]
    }
   ],
   "source": [
    "transform_train = transforms.Compose([\n",
    "    transforms.Lambda(lambda img: cv2.resize(img, (args.image_w,args.image_h), interpolation=cv2.INTER_CUBIC)),\n",
    "    transforms.Lambda(lambda img: np.expand_dims(img,3) ),\n",
    "    #transforms.Lambda(lambda img: add_artifacts(img,args)),\n",
    "    #transforms.Lambda(lambda img: cv2.transpose(img))\n",
    "    ])\n",
    "testset=ArtPrintNoIntsectBinary_3000(transform=transform_train)\n",
    "testloader = DataLoader(testset, batch_size=args.batch_size_seg, shuffle=False, drop_last=False,num_workers=2)"
   ]
  },
  {
   "cell_type": "code",
   "execution_count": 14,
   "metadata": {},
   "outputs": [
    {
     "data": {
      "text/plain": [
       "3000"
      ]
     },
     "execution_count": 14,
     "metadata": {},
     "output_type": "execute_result"
    }
   ],
   "source": [
    "len(testset)"
   ]
  },
  {
   "cell_type": "code",
   "execution_count": 51,
   "metadata": {},
   "outputs": [
    {
     "name": "stderr",
     "output_type": "stream",
     "text": [
      "/usr/local/lib/python3.5/dist-packages/ipykernel_launcher.py:3: DeprecationWarning: Both axis > a.ndim and axis < -a.ndim - 1 are deprecated and will raise an AxisError in the future.\n",
      "  This is separate from the ipykernel package so we can avoid doing imports until\n",
      "/usr/local/lib/python3.5/dist-packages/ipykernel_launcher.py:3: DeprecationWarning: Both axis > a.ndim and axis < -a.ndim - 1 are deprecated and will raise an AxisError in the future.\n",
      "  This is separate from the ipykernel package so we can avoid doing imports until\n"
     ]
    }
   ],
   "source": [
    "for idx, (images,labels) in enumerate(testloader):\n",
    "    if idx==55:\n",
    "        break"
   ]
  },
  {
   "cell_type": "code",
   "execution_count": 41,
   "metadata": {},
   "outputs": [
    {
     "data": {
      "text/plain": [
       "{'status': 'Running'}"
      ]
     },
     "execution_count": 41,
     "metadata": {},
     "output_type": "execute_result"
    }
   ],
   "source": [
    "analysis"
   ]
  },
  {
   "cell_type": "code",
   "execution_count": 55,
   "metadata": {},
   "outputs": [],
   "source": [
    "    img_byte=images_bytes_cl\n",
    "    rlt=['']*10\n",
    "    vision_base_url = \"https://westus.api.cognitive.microsoft.com/vision/v2.0/\"\n",
    "    ocr_url = vision_base_url + \"recognizeText\"\n",
    "    headers = {'Ocp-Apim-Subscription-Key': 'a063cd5d30cf4bad853442124e614303', \"Content-Type\": \"application/octet-stream\"}\n",
    "    params   = {'mode' : 'Printed','detectOrientation ': 'true'}\n",
    "    try:\n",
    "        response = requests.post(ocr_url, headers=headers, params=params, data=img_byte)\n",
    "        response.raise_for_status()\n",
    "        operation_url = response.headers[\"Operation-Location\"]\n",
    "        analysis = {}\n",
    "        while not \"recognitionResult\" in analysis:\n",
    "            response_final = requests.get(response.headers[\"Operation-Location\"], headers=headers)\n",
    "            analysis = response_final.json()\n",
    "            time.sleep(1)\n",
    "            # print(\"analysis................\",analysis)\n",
    "            #rlt = [{'boundingBox': line['boundingBox'], 'text': line['text']} for line in analysis[\"recognitionResult\"][\"lines\"]]\n",
    "            #rlt = [{'pos': line['boundingBox'], 'text': line['text']} for line in analysis[\"recognitionResult\"][\"lines\"]]\n",
    "        for line in analysis[\"recognitionResult\"][\"lines\"]:\n",
    "            rlt[round(line['boundingBox'][1]/32)]=line['text']\n",
    "    except Exception as e:\n",
    "        print (e)\n",
    "  "
   ]
  },
  {
   "cell_type": "code",
   "execution_count": 47,
   "metadata": {},
   "outputs": [
    {
     "data": {
      "text/plain": [
       "['A97', '9386', '52 31 1', '- 27', '1100', '', '', '1808', '8', '']"
      ]
     },
     "execution_count": 47,
     "metadata": {},
     "output_type": "execute_result"
    }
   ],
   "source": [
    "rlt\n"
   ]
  },
  {
   "cell_type": "code",
   "execution_count": 52,
   "metadata": {},
   "outputs": [],
   "source": [
    "    images=images.numpy()\n",
    "    \n",
    "    #cleaneds,clean_recgs=model_joint.inferCleanBatchJoint(images);\n",
    "    cleaneds=model_joint.imageCleanSeg(images)\n",
    "    images=np.squeeze(images,3)\n",
    "    \n",
    "    \n",
    "    cleaneds_dilated=np.array(list(map(lambda x:cv2.erode(cv2.dilate(x, kernel, iterations=1), kernel, iterations=1) ,cleaneds)))\n",
    "    \n",
    "    images_bytes= cv2.imencode('.jpg',np.concatenate(images,axis=0))[1].tobytes()\n",
    "    \n",
    "    images_bytes_cl= cv2.imencode('.jpg',np.concatenate(cleaneds_dilated,axis=0))[1].tobytes()\n",
    "    \n",
    "    recs=msOcr2(images_bytes)\n",
    "    recs_cl=msOcr2(images_bytes_cl)"
   ]
  },
  {
   "cell_type": "code",
   "execution_count": 53,
   "metadata": {},
   "outputs": [
    {
     "data": {
      "text/plain": [
       "['A97', '9386.', '52311', '', '1100', '', '', '1808', '8', '']"
      ]
     },
     "execution_count": 53,
     "metadata": {},
     "output_type": "execute_result"
    }
   ],
   "source": [
    "recs"
   ]
  },
  {
   "cell_type": "code",
   "execution_count": 54,
   "metadata": {},
   "outputs": [
    {
     "data": {
      "text/plain": [
       "['A97', '9386', '52 311', '37', '1100', '', '3.', '1808', '8', '']"
      ]
     },
     "execution_count": 54,
     "metadata": {},
     "output_type": "execute_result"
    }
   ],
   "source": [
    "recs_cl"
   ]
  },
  {
   "cell_type": "markdown",
   "metadata": {},
   "source": [
    "# Testing"
   ]
  },
  {
   "cell_type": "code",
   "execution_count": 17,
   "metadata": {},
   "outputs": [
    {
     "name": "stderr",
     "output_type": "stream",
     "text": [
      "/usr/local/lib/python3.5/dist-packages/ipykernel_launcher.py:3: DeprecationWarning: Both axis > a.ndim and axis < -a.ndim - 1 are deprecated and will raise an AxisError in the future.\n",
      "  This is separate from the ipykernel package so we can avoid doing imports until\n",
      "/usr/local/lib/python3.5/dist-packages/ipykernel_launcher.py:3: DeprecationWarning: Both axis > a.ndim and axis < -a.ndim - 1 are deprecated and will raise an AxisError in the future.\n",
      "  This is separate from the ipykernel package so we can avoid doing imports until\n"
     ]
    },
    {
     "name": "stdout",
     "output_type": "stream",
     "text": [
      "0.0\n",
      "list assignment index out of range\n",
      "0.03333333333333333\n",
      "list assignment index out of range\n",
      "0.06666666666666667\n",
      "list assignment index out of range\n",
      "VALID: Character error rate: 27.255003%. Word accuracy: 49.133333%.\n",
      "VALID: Cleaned Character error rate: 21.908671%. Cleaned Word accuracy: 56.000000%.\n"
     ]
    },
    {
     "data": {
      "image/png": "[encoded data removed]",
      "text/plain": [
       "<matplotlib.figure.Figure at 0x7fd89c5ada90>"
      ]
     },
     "metadata": {
      "needs_background": "light"
     },
     "output_type": "display_data"
    }
   ],
   "source": [
    "  upload=True\n",
    "  numCharErr, numCharTotal, numWordOK, numWordTotal = 0, 0, 0, 0\n",
    "  numCharErrClean, numWordOKClean = 0, 0\n",
    "  kernel = np.ones((2,2), np.uint8)\n",
    "  #plt.figure(figsize=(6,2))\n",
    "  counter = 0\n",
    "  lenidx=len(testset)\n",
    "  for idx, (images,_,labels) in enumerate(testloader):\n",
    "    \n",
    "    if np.mod(idx,100)==0:\n",
    "      print(str(idx/lenidx))\n",
    "    images=images.numpy()\n",
    "    \n",
    "    #cleaneds,clean_recgs=model_joint.inferCleanBatchJoint(images);\n",
    "    cleaneds=model_joint.imageCleanSeg(images)\n",
    "    images=np.squeeze(images,3)\n",
    "    \n",
    "    \n",
    "    cleaneds_dilated=np.array(list(map(lambda x:cv2.erode(cv2.dilate(x, kernel, iterations=1), kernel, iterations=1) ,cleaneds)))\n",
    "    \n",
    "    images_bytes= cv2.imencode('.jpg',np.concatenate(images,axis=0))[1].tobytes()\n",
    "    \n",
    "    images_bytes_cl= cv2.imencode('.jpg',np.concatenate(cleaneds_dilated,axis=0))[1].tobytes()\n",
    "    \n",
    "    recs=msOcr2(images_bytes)\n",
    "    recs_cl=msOcr2(images_bytes_cl)\n",
    "\n",
    "    for img,img_cl,label,rec,rec_cl in zip(images,cleaneds_dilated,labels,recs,recs_cl):\n",
    "        #img=np.squeeze(img,3)\n",
    "        #img_cl= np.squeeze(img_cl).astype(np.dtype('uint8'))\n",
    "        \n",
    "        #img_bytes=cv2.imencode('.jpg',cv2.resize(src=img,dsize=(0,0),fx=2,fy=2,interpolation=cv2.INTER_CUBIC))[1].tobytes()\n",
    "        #Image.fromarray(img)\n",
    "        \n",
    "        #img_cl=cv2.dilate(img_cl, kernel, iterations=1)\n",
    "        #img_cl=cv2.erode(img_cl, kernel, iterations=1)\n",
    "        #img_cl_bytes=cv2.imencode('.jpg',cv2.resize(src=img_cl,dsize=(0,0),fx=2,fy=2,interpolation=cv2.INTER_CUBIC))[1].tobytes()\n",
    "        #Image.fromarray(img_cl)\n",
    "        \n",
    "        #rec=pyt.image_to_string(img_pil,config='-psm 7')\n",
    "        #rec_cl=pyt.image_to_string(img_cl_pil,config='-psm 7')\n",
    "        \n",
    "        #rec= msOcr(img_bytes)\n",
    "        #rec_cl=msOcr(img_cl_bytes)\n",
    "        \n",
    "        numWordOK += 1 if label == rec else 0 #batch.gtTexts[i]\n",
    "        numWordTotal += 1\n",
    "        dist0 = editdistance.eval(rec, label)# batch.gtTexts[i])\n",
    "        numCharErr += dist0\n",
    "        numCharTotal += len(label)\n",
    "        \n",
    "        numWordOKClean += 1 if label == rec_cl else 0 #batch.gtTexts[i]\n",
    "        #numWordTotal += 1\n",
    "        dist1 = editdistance.eval(rec_cl, label)# batch.gtTexts[i])\n",
    "        numCharErrClean+= dist1\n",
    "        #numCharTotal += len(labels)\n",
    "        \n",
    "        if upload and counter<2000: # log images\n",
    "            im_save=np.concatenate((img,img_cl),axis=1)\n",
    "            text = ' '.join(['[OK]' if dist1 == 0 else '[ERR:%d]' % dist1,'<=','[OK]' if dist0 == 0 else '[ERR:%d]' % dist0,': ' ,'\"' + label + '\"', '->', '\"' + rec + '\"', '->', '\"' + rec_cl + '\"'])\n",
    "            log_image2(experiment, im_save, text, 'test_remove_artifacts', args.ckptpath_seg, counter)\n",
    "        \n",
    "        \n",
    "        counter+=1\n",
    "        \n",
    "\n",
    "  charErrorRate = numCharErr / numCharTotal\n",
    "  wordAccuracy = numWordOK / numWordTotal\n",
    "  charErrorRateClean = numCharErrClean / numCharTotal\n",
    "  wordAccuracyClean = numWordOKClean / numWordTotal\n",
    "  print('VALID: Character error rate: %f%%. Word accuracy: %f%%.' % (charErrorRate * 100.0, wordAccuracy * 100.0))\n",
    "  print('VALID: Cleaned Character error rate: %f%%. Cleaned Word accuracy: %f%%.' % (charErrorRateClean * 100.0, wordAccuracyClean * 100.0))\n",
    "  experiment.log_metric('valid/raw/cer', charErrorRate)#, step)\n",
    "  experiment.log_metric('valid/raw/wer', 1-wordAccuracy)#, step)\n",
    "  experiment.log_metric('valid/clean/cer', charErrorRateClean)#, step)\n",
    "  experiment.log_metric('valid/clean/wer', 1-wordAccuracyClean)#, step)"
   ]
  },
  {
   "cell_type": "code",
   "execution_count": 7,
   "metadata": {},
   "outputs": [
    {
     "name": "stdout",
     "output_type": "stream",
     "text": [
      "VALID: Character error rate: 34.987826%. Word accuracy: 6.112309%.\n",
      "VALID: Cleaned Character error rate: 6.821115%. Cleaned Word accuracy: 66.673094%.\n"
     ]
    }
   ],
   "source": [
    "  charErrorRate = numCharErr / numCharTotal\n",
    "  wordAccuracy = numWordOK / numWordTotal\n",
    "  charErrorRateClean = numCharErrClean / numCharTotal\n",
    "  wordAccuracyClean = numWordOKClean / numWordTotal\n",
    "  print('VALID: Character error rate: %f%%. Word accuracy: %f%%.' % (charErrorRate * 100.0, wordAccuracy * 100.0))\n",
    "  print('VALID: Cleaned Character error rate: %f%%. Cleaned Word accuracy: %f%%.' % (charErrorRateClean * 100.0, wordAccuracyClean * 100.0))\n",
    "  experiment.log_metric('valid/raw/cer', charErrorRate)#, step)\n",
    "  experiment.log_metric('valid/raw/wer', 1-wordAccuracy)#, step)\n",
    "  experiment.log_metric('valid/clean/cer', charErrorRateClean)#, step)\n",
    "  experiment.log_metric('valid/clean/wer', 1-wordAccuracyClean)#, step)"
   ]
  },
  {
   "cell_type": "markdown",
   "metadata": {},
   "source": [
    "# Model Initiate"
   ]
  },
  {
   "cell_type": "code",
   "execution_count": 9,
   "metadata": {},
   "outputs": [
    {
     "name": "stdout",
     "output_type": "stream",
     "text": [
      "GGG\n",
      "[None, 32, 128, 1]\n",
      "WARNING:tensorflow:From /usr/local/lib/python3.5/dist-packages/tensorflow/python/framework/op_def_library.py:263: colocate_with (from tensorflow.python.framework.ops) is deprecated and will be removed in a future version.\n",
      "Instructions for updating:\n",
      "Colocations handled automatically by placer.\n"
     ]
    },
    {
     "name": "stderr",
     "output_type": "stream",
     "text": [
      "WARNING:tensorflow:From /usr/local/lib/python3.5/dist-packages/tensorflow/python/framework/op_def_library.py:263: colocate_with (from tensorflow.python.framework.ops) is deprecated and will be removed in a future version.\n",
      "Instructions for updating:\n",
      "Colocations handled automatically by placer.\n"
     ]
    },
    {
     "name": "stdout",
     "output_type": "stream",
     "text": [
      "WARNING:tensorflow:From /root/Engagements/Unet_Recognition_Joint/src/Model_Binary_Joint.py:52: calling dropout (from tensorflow.python.ops.nn_ops) with keep_prob is deprecated and will be removed in a future version.\n",
      "Instructions for updating:\n",
      "Please use `rate` instead of `keep_prob`. Rate should be set to `rate = 1 - keep_prob`.\n"
     ]
    },
    {
     "name": "stderr",
     "output_type": "stream",
     "text": [
      "WARNING:tensorflow:From /root/Engagements/Unet_Recognition_Joint/src/Model_Binary_Joint.py:52: calling dropout (from tensorflow.python.ops.nn_ops) with keep_prob is deprecated and will be removed in a future version.\n",
      "Instructions for updating:\n",
      "Please use `rate` instead of `keep_prob`. Rate should be set to `rate = 1 - keep_prob`.\n"
     ]
    },
    {
     "name": "stdout",
     "output_type": "stream",
     "text": [
      "WARNING:tensorflow:From /usr/local/lib/python3.5/dist-packages/tensorflow/python/ops/nn_ops.py:3042: div (from tensorflow.python.ops.math_ops) is deprecated and will be removed in a future version.\n",
      "Instructions for updating:\n",
      "Deprecated in favor of operator or tf.math.divide.\n"
     ]
    },
    {
     "name": "stderr",
     "output_type": "stream",
     "text": [
      "WARNING:tensorflow:From /usr/local/lib/python3.5/dist-packages/tensorflow/python/ops/nn_ops.py:3042: div (from tensorflow.python.ops.math_ops) is deprecated and will be removed in a future version.\n",
      "Instructions for updating:\n",
      "Deprecated in favor of operator or tf.math.divide.\n"
     ]
    },
    {
     "name": "stdout",
     "output_type": "stream",
     "text": [
      "0 conv1: (?, ?, ?, 32)\n",
      "0 conv2: (?, ?, ?, 32)\n",
      "1 conv1: (?, ?, ?, 64)\n",
      "1 conv2: (?, ?, ?, 64)\n",
      "2 conv1: (?, ?, ?, 128)\n",
      "2 conv2: (?, ?, ?, 128)\n",
      "1 h_deconv: (?, ?, ?, 64)\n",
      "1 h_deconv_concat: (?, ?, ?, ?)\n",
      "1 h_conv1_post_deconv: (?, ?, ?, 64)\n",
      "1 h_conv2_post_deconv: (?, ?, ?, 64)\n",
      "0 h_deconv: (?, ?, ?, 32)\n",
      "0 h_deconv_concat: (?, ?, ?, ?)\n",
      "0 h_conv1_post_deconv: (?, ?, ?, 32)\n",
      "0 h_conv2_post_deconv: (?, ?, ?, 32)\n",
      "0 outmap: (?, ?, ?, 2)\n",
      "(?, ?, ?, 2)\n",
      "loss_seg: ()\n",
      "WARNING:tensorflow:From /root/Engagements/Unet_Recognition_Joint/src/Model_Binary_Joint.py:313: to_float (from tensorflow.python.ops.math_ops) is deprecated and will be removed in a future version.\n",
      "Instructions for updating:\n",
      "Use tf.cast instead.\n"
     ]
    },
    {
     "name": "stderr",
     "output_type": "stream",
     "text": [
      "WARNING:tensorflow:From /root/Engagements/Unet_Recognition_Joint/src/Model_Binary_Joint.py:313: to_float (from tensorflow.python.ops.math_ops) is deprecated and will be removed in a future version.\n",
      "Instructions for updating:\n",
      "Use tf.cast instead.\n"
     ]
    },
    {
     "name": "stdout",
     "output_type": "stream",
     "text": [
      "clean output from seg: (?, 32, 128)\n",
      "recg input: (?, 128, 32)\n",
      "shape of cnn input: [None, 128, 32]\n",
      "Build Densenet4htr model with 5 blocks, 9 bottleneck layers and 9 composite layers each.\n",
      "Depth: 96\n",
      "Reduction at transition layers: 0.4\n",
      "densenet feature extractor graph built in (sec): 7.639151096343994\n",
      "Total training params: 1.0M\n",
      "shape of cnn output: [None, 32, 1, 178]\n",
      "WARNING:tensorflow:From /root/Engagements/Unet_Recognition_Joint/src/Model_Binary_Joint.py:544: LSTMCell.__init__ (from tensorflow.python.ops.rnn_cell_impl) is deprecated and will be removed in a future version.\n",
      "Instructions for updating:\n",
      "This class is equivalent as tf.keras.layers.LSTMCell, and will be replaced by that in Tensorflow 2.0.\n"
     ]
    },
    {
     "name": "stderr",
     "output_type": "stream",
     "text": [
      "WARNING:tensorflow:From /root/Engagements/Unet_Recognition_Joint/src/Model_Binary_Joint.py:544: LSTMCell.__init__ (from tensorflow.python.ops.rnn_cell_impl) is deprecated and will be removed in a future version.\n",
      "Instructions for updating:\n",
      "This class is equivalent as tf.keras.layers.LSTMCell, and will be replaced by that in Tensorflow 2.0.\n"
     ]
    },
    {
     "name": "stdout",
     "output_type": "stream",
     "text": [
      "WARNING:tensorflow:From /root/Engagements/Unet_Recognition_Joint/src/Model_Binary_Joint.py:547: MultiRNNCell.__init__ (from tensorflow.python.ops.rnn_cell_impl) is deprecated and will be removed in a future version.\n",
      "Instructions for updating:\n",
      "This class is equivalent as tf.keras.layers.StackedRNNCells, and will be replaced by that in Tensorflow 2.0.\n"
     ]
    },
    {
     "name": "stderr",
     "output_type": "stream",
     "text": [
      "WARNING:tensorflow:From /root/Engagements/Unet_Recognition_Joint/src/Model_Binary_Joint.py:547: MultiRNNCell.__init__ (from tensorflow.python.ops.rnn_cell_impl) is deprecated and will be removed in a future version.\n",
      "Instructions for updating:\n",
      "This class is equivalent as tf.keras.layers.StackedRNNCells, and will be replaced by that in Tensorflow 2.0.\n"
     ]
    },
    {
     "name": "stdout",
     "output_type": "stream",
     "text": [
      "WARNING:tensorflow:From /root/Engagements/Unet_Recognition_Joint/src/Model_Binary_Joint.py:552: bidirectional_dynamic_rnn (from tensorflow.python.ops.rnn) is deprecated and will be removed in a future version.\n",
      "Instructions for updating:\n",
      "Please use `keras.layers.Bidirectional(keras.layers.RNN(cell))`, which is equivalent to this API\n"
     ]
    },
    {
     "name": "stderr",
     "output_type": "stream",
     "text": [
      "WARNING:tensorflow:From /root/Engagements/Unet_Recognition_Joint/src/Model_Binary_Joint.py:552: bidirectional_dynamic_rnn (from tensorflow.python.ops.rnn) is deprecated and will be removed in a future version.\n",
      "Instructions for updating:\n",
      "Please use `keras.layers.Bidirectional(keras.layers.RNN(cell))`, which is equivalent to this API\n"
     ]
    },
    {
     "name": "stdout",
     "output_type": "stream",
     "text": [
      "WARNING:tensorflow:From /usr/local/lib/python3.5/dist-packages/tensorflow/python/ops/rnn.py:443: dynamic_rnn (from tensorflow.python.ops.rnn) is deprecated and will be removed in a future version.\n",
      "Instructions for updating:\n",
      "Please use `keras.layers.RNN(cell)`, which is equivalent to this API\n"
     ]
    },
    {
     "name": "stderr",
     "output_type": "stream",
     "text": [
      "WARNING:tensorflow:From /usr/local/lib/python3.5/dist-packages/tensorflow/python/ops/rnn.py:443: dynamic_rnn (from tensorflow.python.ops.rnn) is deprecated and will be removed in a future version.\n",
      "Instructions for updating:\n",
      "Please use `keras.layers.RNN(cell)`, which is equivalent to this API\n"
     ]
    },
    {
     "name": "stdout",
     "output_type": "stream",
     "text": [
      "Tensor(\"add:0\", shape=(), dtype=float32)\n",
      "WARNING:tensorflow:From /usr/local/lib/python3.5/dist-packages/tensorflow/python/util/decorator_utils.py:145: GraphKeys.VARIABLES (from tensorflow.python.framework.ops) is deprecated and will be removed in a future version.\n",
      "Instructions for updating:\n",
      "Use `tf.GraphKeys.GLOBAL_VARIABLES` instead.\n"
     ]
    },
    {
     "name": "stderr",
     "output_type": "stream",
     "text": [
      "WARNING:tensorflow:From /usr/local/lib/python3.5/dist-packages/tensorflow/python/util/decorator_utils.py:145: GraphKeys.VARIABLES (from tensorflow.python.framework.ops) is deprecated and will be removed in a future version.\n",
      "Instructions for updating:\n",
      "Use `tf.GraphKeys.GLOBAL_VARIABLES` instead.\n"
     ]
    },
    {
     "name": "stdout",
     "output_type": "stream",
     "text": [
      "INFO:tensorflow:Summary name graph_segmentation/loss/cross_entropy (raw) is illegal; using graph_segmentation/loss/cross_entropy__raw_ instead.\n"
     ]
    },
    {
     "name": "stderr",
     "output_type": "stream",
     "text": [
      "INFO:tensorflow:Summary name graph_segmentation/loss/cross_entropy (raw) is illegal; using graph_segmentation/loss/cross_entropy__raw_ instead.\n"
     ]
    },
    {
     "name": "stdout",
     "output_type": "stream",
     "text": [
      "INFO:tensorflow:Summary name add (raw) is illegal; using add__raw_ instead.\n"
     ]
    },
    {
     "name": "stderr",
     "output_type": "stream",
     "text": [
      "INFO:tensorflow:Summary name add (raw) is illegal; using add__raw_ instead.\n",
      "COMET ERROR: Failed to extract parameters from Estimator.init()\n"
     ]
    },
    {
     "name": "stdout",
     "output_type": "stream",
     "text": [
      "toto_loss_shape: Tensor(\"add:0\", shape=(), dtype=float32)\n",
      "WARNING:tensorflow:From /usr/local/lib/python3.5/dist-packages/tensorflow/python/ops/math_ops.py:3197: to_int32 (from tensorflow.python.ops.math_ops) is deprecated and will be removed in a future version.\n",
      "Instructions for updating:\n",
      "Use tf.cast instead.\n"
     ]
    },
    {
     "name": "stderr",
     "output_type": "stream",
     "text": [
      "WARNING:tensorflow:From /usr/local/lib/python3.5/dist-packages/tensorflow/python/ops/math_ops.py:3197: to_int32 (from tensorflow.python.ops.math_ops) is deprecated and will be removed in a future version.\n",
      "Instructions for updating:\n",
      "Use tf.cast instead.\n",
      "COMET ERROR: Failed to extract parameters from Estimator.init()\n"
     ]
    },
    {
     "name": "stdout",
     "output_type": "stream",
     "text": [
      "Python: 3.5.2 (default, Nov 12 2018, 13:43:14) \n",
      "[GCC 5.4.0 20160609]\n",
      "Tensorflow: 1.12.0-rc0\n",
      "Ran global_variables_initializer first\n",
      "WARNING:tensorflow:From /usr/local/lib/python3.5/dist-packages/tensorflow/python/training/saver.py:1557: checkpoint_exists (from tensorflow.python.training.checkpoint_management) is deprecated and will be removed in a future version.\n",
      "Instructions for updating:\n",
      "Use standard file APIs to check for files with this prefix.\n"
     ]
    },
    {
     "name": "stderr",
     "output_type": "stream",
     "text": [
      "WARNING:tensorflow:From /usr/local/lib/python3.5/dist-packages/tensorflow/python/training/saver.py:1557: checkpoint_exists (from tensorflow.python.training.checkpoint_management) is deprecated and will be removed in a future version.\n",
      "Instructions for updating:\n",
      "Use standard file APIs to check for files with this prefix.\n"
     ]
    },
    {
     "name": "stdout",
     "output_type": "stream",
     "text": [
      "INFO:tensorflow:Restoring parameters from /root/ckpt/new_segnet_joint/model-99\n"
     ]
    },
    {
     "name": "stderr",
     "output_type": "stream",
     "text": [
      "INFO:tensorflow:Restoring parameters from /root/ckpt/new_segnet_joint/model-99\n"
     ]
    },
    {
     "name": "stdout",
     "output_type": "stream",
     "text": [
      "Init with stored values from /root/ckpt/new_segnet_joint/model-99\n",
      "INFO:tensorflow:Restoring parameters from /root/ckpt/recg_new_five_datasets/model-31\n"
     ]
    },
    {
     "name": "stderr",
     "output_type": "stream",
     "text": [
      "INFO:tensorflow:Restoring parameters from /root/ckpt/recg_new_five_datasets/model-31\n"
     ]
    },
    {
     "name": "stdout",
     "output_type": "stream",
     "text": [
      "Init with stored values from /root/ckpt/recg_new_five_datasets/model-31\n"
     ]
    }
   ],
   "source": [
    "model_recg = Model(args, charList=open(join(args.ckptpath_recg, 'charList.txt')).read(), loss_beta=0.6,loss_weight=[.5,.5], decoderType=DecoderType.BeamSearch,experiment=experiment,mustRestore_seg=True,mustRestore_recg=True, joint=False)"
   ]
  },
  {
   "cell_type": "code",
   "execution_count": 15,
   "metadata": {},
   "outputs": [
    {
     "name": "stdout",
     "output_type": "stream",
     "text": [
      "GGG\n",
      "[None, 32, 128, 1]\n",
      "WARNING:tensorflow:From /usr/local/lib/python3.5/dist-packages/tensorflow/python/framework/op_def_library.py:263: colocate_with (from tensorflow.python.framework.ops) is deprecated and will be removed in a future version.\n",
      "Instructions for updating:\n",
      "Colocations handled automatically by placer.\n"
     ]
    },
    {
     "name": "stderr",
     "output_type": "stream",
     "text": [
      "WARNING:tensorflow:From /usr/local/lib/python3.5/dist-packages/tensorflow/python/framework/op_def_library.py:263: colocate_with (from tensorflow.python.framework.ops) is deprecated and will be removed in a future version.\n",
      "Instructions for updating:\n",
      "Colocations handled automatically by placer.\n"
     ]
    },
    {
     "name": "stdout",
     "output_type": "stream",
     "text": [
      "WARNING:tensorflow:From /root/Engagements/Unet_Recognition_Joint/src/Model_Binary_Joint.py:52: calling dropout (from tensorflow.python.ops.nn_ops) with keep_prob is deprecated and will be removed in a future version.\n",
      "Instructions for updating:\n",
      "Please use `rate` instead of `keep_prob`. Rate should be set to `rate = 1 - keep_prob`.\n"
     ]
    },
    {
     "name": "stderr",
     "output_type": "stream",
     "text": [
      "WARNING:tensorflow:From /root/Engagements/Unet_Recognition_Joint/src/Model_Binary_Joint.py:52: calling dropout (from tensorflow.python.ops.nn_ops) with keep_prob is deprecated and will be removed in a future version.\n",
      "Instructions for updating:\n",
      "Please use `rate` instead of `keep_prob`. Rate should be set to `rate = 1 - keep_prob`.\n"
     ]
    },
    {
     "name": "stdout",
     "output_type": "stream",
     "text": [
      "WARNING:tensorflow:From /usr/local/lib/python3.5/dist-packages/tensorflow/python/ops/nn_ops.py:3042: div (from tensorflow.python.ops.math_ops) is deprecated and will be removed in a future version.\n",
      "Instructions for updating:\n",
      "Deprecated in favor of operator or tf.math.divide.\n"
     ]
    },
    {
     "name": "stderr",
     "output_type": "stream",
     "text": [
      "WARNING:tensorflow:From /usr/local/lib/python3.5/dist-packages/tensorflow/python/ops/nn_ops.py:3042: div (from tensorflow.python.ops.math_ops) is deprecated and will be removed in a future version.\n",
      "Instructions for updating:\n",
      "Deprecated in favor of operator or tf.math.divide.\n"
     ]
    },
    {
     "name": "stdout",
     "output_type": "stream",
     "text": [
      "0 conv1: (?, ?, ?, 32)\n",
      "0 conv2: (?, ?, ?, 32)\n",
      "1 conv1: (?, ?, ?, 64)\n",
      "1 conv2: (?, ?, ?, 64)\n",
      "2 conv1: (?, ?, ?, 128)\n",
      "2 conv2: (?, ?, ?, 128)\n",
      "1 h_deconv: (?, ?, ?, 64)\n",
      "1 h_deconv_concat: (?, ?, ?, ?)\n",
      "1 h_conv1_post_deconv: (?, ?, ?, 64)\n",
      "1 h_conv2_post_deconv: (?, ?, ?, 64)\n",
      "0 h_deconv: (?, ?, ?, 32)\n",
      "0 h_deconv_concat: (?, ?, ?, ?)\n",
      "0 h_conv1_post_deconv: (?, ?, ?, 32)\n",
      "0 h_conv2_post_deconv: (?, ?, ?, 32)\n",
      "0 outmap: (?, ?, ?, 2)\n",
      "(?, ?, ?, 2)\n",
      "loss_seg: ()\n",
      "WARNING:tensorflow:From /root/Engagements/Unet_Recognition_Joint/src/Model_Binary_Joint.py:313: to_float (from tensorflow.python.ops.math_ops) is deprecated and will be removed in a future version.\n",
      "Instructions for updating:\n",
      "Use tf.cast instead.\n"
     ]
    },
    {
     "name": "stderr",
     "output_type": "stream",
     "text": [
      "WARNING:tensorflow:From /root/Engagements/Unet_Recognition_Joint/src/Model_Binary_Joint.py:313: to_float (from tensorflow.python.ops.math_ops) is deprecated and will be removed in a future version.\n",
      "Instructions for updating:\n",
      "Use tf.cast instead.\n"
     ]
    },
    {
     "name": "stdout",
     "output_type": "stream",
     "text": [
      "clean output from seg: (?, 32, 128)\n",
      "recg input: (?, 128, 32)\n",
      "shape of cnn input: [None, 128, 32]\n",
      "Build Densenet4htr model with 5 blocks, 9 bottleneck layers and 9 composite layers each.\n",
      "Depth: 96\n",
      "Reduction at transition layers: 0.4\n",
      "densenet feature extractor graph built in (sec): 7.718675136566162\n",
      "Total training params: 1.0M\n",
      "shape of cnn output: [None, 32, 1, 178]\n",
      "WARNING:tensorflow:From /root/Engagements/Unet_Recognition_Joint/src/Model_Binary_Joint.py:544: LSTMCell.__init__ (from tensorflow.python.ops.rnn_cell_impl) is deprecated and will be removed in a future version.\n",
      "Instructions for updating:\n",
      "This class is equivalent as tf.keras.layers.LSTMCell, and will be replaced by that in Tensorflow 2.0.\n"
     ]
    },
    {
     "name": "stderr",
     "output_type": "stream",
     "text": [
      "WARNING:tensorflow:From /root/Engagements/Unet_Recognition_Joint/src/Model_Binary_Joint.py:544: LSTMCell.__init__ (from tensorflow.python.ops.rnn_cell_impl) is deprecated and will be removed in a future version.\n",
      "Instructions for updating:\n",
      "This class is equivalent as tf.keras.layers.LSTMCell, and will be replaced by that in Tensorflow 2.0.\n"
     ]
    },
    {
     "name": "stdout",
     "output_type": "stream",
     "text": [
      "WARNING:tensorflow:From /root/Engagements/Unet_Recognition_Joint/src/Model_Binary_Joint.py:547: MultiRNNCell.__init__ (from tensorflow.python.ops.rnn_cell_impl) is deprecated and will be removed in a future version.\n",
      "Instructions for updating:\n",
      "This class is equivalent as tf.keras.layers.StackedRNNCells, and will be replaced by that in Tensorflow 2.0.\n"
     ]
    },
    {
     "name": "stderr",
     "output_type": "stream",
     "text": [
      "WARNING:tensorflow:From /root/Engagements/Unet_Recognition_Joint/src/Model_Binary_Joint.py:547: MultiRNNCell.__init__ (from tensorflow.python.ops.rnn_cell_impl) is deprecated and will be removed in a future version.\n",
      "Instructions for updating:\n",
      "This class is equivalent as tf.keras.layers.StackedRNNCells, and will be replaced by that in Tensorflow 2.0.\n"
     ]
    },
    {
     "name": "stdout",
     "output_type": "stream",
     "text": [
      "WARNING:tensorflow:From /root/Engagements/Unet_Recognition_Joint/src/Model_Binary_Joint.py:552: bidirectional_dynamic_rnn (from tensorflow.python.ops.rnn) is deprecated and will be removed in a future version.\n",
      "Instructions for updating:\n",
      "Please use `keras.layers.Bidirectional(keras.layers.RNN(cell))`, which is equivalent to this API\n"
     ]
    },
    {
     "name": "stderr",
     "output_type": "stream",
     "text": [
      "WARNING:tensorflow:From /root/Engagements/Unet_Recognition_Joint/src/Model_Binary_Joint.py:552: bidirectional_dynamic_rnn (from tensorflow.python.ops.rnn) is deprecated and will be removed in a future version.\n",
      "Instructions for updating:\n",
      "Please use `keras.layers.Bidirectional(keras.layers.RNN(cell))`, which is equivalent to this API\n"
     ]
    },
    {
     "name": "stdout",
     "output_type": "stream",
     "text": [
      "WARNING:tensorflow:From /usr/local/lib/python3.5/dist-packages/tensorflow/python/ops/rnn.py:443: dynamic_rnn (from tensorflow.python.ops.rnn) is deprecated and will be removed in a future version.\n",
      "Instructions for updating:\n",
      "Please use `keras.layers.RNN(cell)`, which is equivalent to this API\n"
     ]
    },
    {
     "name": "stderr",
     "output_type": "stream",
     "text": [
      "WARNING:tensorflow:From /usr/local/lib/python3.5/dist-packages/tensorflow/python/ops/rnn.py:443: dynamic_rnn (from tensorflow.python.ops.rnn) is deprecated and will be removed in a future version.\n",
      "Instructions for updating:\n",
      "Please use `keras.layers.RNN(cell)`, which is equivalent to this API\n"
     ]
    },
    {
     "name": "stdout",
     "output_type": "stream",
     "text": [
      "Tensor(\"add:0\", shape=(), dtype=float32)\n",
      "WARNING:tensorflow:From /usr/local/lib/python3.5/dist-packages/tensorflow/python/util/decorator_utils.py:145: GraphKeys.VARIABLES (from tensorflow.python.framework.ops) is deprecated and will be removed in a future version.\n",
      "Instructions for updating:\n",
      "Use `tf.GraphKeys.GLOBAL_VARIABLES` instead.\n"
     ]
    },
    {
     "name": "stderr",
     "output_type": "stream",
     "text": [
      "WARNING:tensorflow:From /usr/local/lib/python3.5/dist-packages/tensorflow/python/util/decorator_utils.py:145: GraphKeys.VARIABLES (from tensorflow.python.framework.ops) is deprecated and will be removed in a future version.\n",
      "Instructions for updating:\n",
      "Use `tf.GraphKeys.GLOBAL_VARIABLES` instead.\n"
     ]
    },
    {
     "name": "stdout",
     "output_type": "stream",
     "text": [
      "INFO:tensorflow:Summary name graph_segmentation/loss/cross_entropy (raw) is illegal; using graph_segmentation/loss/cross_entropy__raw_ instead.\n"
     ]
    },
    {
     "name": "stderr",
     "output_type": "stream",
     "text": [
      "INFO:tensorflow:Summary name graph_segmentation/loss/cross_entropy (raw) is illegal; using graph_segmentation/loss/cross_entropy__raw_ instead.\n"
     ]
    },
    {
     "name": "stdout",
     "output_type": "stream",
     "text": [
      "INFO:tensorflow:Summary name add (raw) is illegal; using add__raw_ instead.\n"
     ]
    },
    {
     "name": "stderr",
     "output_type": "stream",
     "text": [
      "INFO:tensorflow:Summary name add (raw) is illegal; using add__raw_ instead.\n",
      "COMET ERROR: Failed to extract parameters from Estimator.init()\n"
     ]
    },
    {
     "name": "stdout",
     "output_type": "stream",
     "text": [
      "toto_loss_shape: Tensor(\"add:0\", shape=(), dtype=float32)\n",
      "WARNING:tensorflow:From /usr/local/lib/python3.5/dist-packages/tensorflow/python/ops/math_ops.py:3197: to_int32 (from tensorflow.python.ops.math_ops) is deprecated and will be removed in a future version.\n",
      "Instructions for updating:\n",
      "Use tf.cast instead.\n"
     ]
    },
    {
     "name": "stderr",
     "output_type": "stream",
     "text": [
      "WARNING:tensorflow:From /usr/local/lib/python3.5/dist-packages/tensorflow/python/ops/math_ops.py:3197: to_int32 (from tensorflow.python.ops.math_ops) is deprecated and will be removed in a future version.\n",
      "Instructions for updating:\n",
      "Use tf.cast instead.\n",
      "COMET ERROR: Failed to extract parameters from Estimator.init()\n"
     ]
    },
    {
     "name": "stdout",
     "output_type": "stream",
     "text": [
      "Python: 3.5.2 (default, Nov 12 2018, 13:43:14) \n",
      "[GCC 5.4.0 20160609]\n",
      "Tensorflow: 1.12.0-rc0\n",
      "Ran global_variables_initializer first\n",
      "WARNING:tensorflow:From /usr/local/lib/python3.5/dist-packages/tensorflow/python/training/saver.py:1557: checkpoint_exists (from tensorflow.python.training.checkpoint_management) is deprecated and will be removed in a future version.\n",
      "Instructions for updating:\n",
      "Use standard file APIs to check for files with this prefix.\n"
     ]
    },
    {
     "name": "stderr",
     "output_type": "stream",
     "text": [
      "WARNING:tensorflow:From /usr/local/lib/python3.5/dist-packages/tensorflow/python/training/saver.py:1557: checkpoint_exists (from tensorflow.python.training.checkpoint_management) is deprecated and will be removed in a future version.\n",
      "Instructions for updating:\n",
      "Use standard file APIs to check for files with this prefix.\n"
     ]
    },
    {
     "name": "stdout",
     "output_type": "stream",
     "text": [
      "INFO:tensorflow:Restoring parameters from /root/ckpt/new_segnet_joint/model-99\n"
     ]
    },
    {
     "name": "stderr",
     "output_type": "stream",
     "text": [
      "INFO:tensorflow:Restoring parameters from /root/ckpt/new_segnet_joint/model-99\n"
     ]
    },
    {
     "name": "stdout",
     "output_type": "stream",
     "text": [
      "Init with stored values from /root/ckpt/new_segnet_joint/model-99\n",
      "INFO:tensorflow:Restoring parameters from /root/ckpt/recg_new_five_datasets/model-38\n"
     ]
    },
    {
     "name": "stderr",
     "output_type": "stream",
     "text": [
      "INFO:tensorflow:Restoring parameters from /root/ckpt/recg_new_five_datasets/model-38\n"
     ]
    },
    {
     "name": "stdout",
     "output_type": "stream",
     "text": [
      "Init with stored values from /root/ckpt/recg_new_five_datasets/model-38\n"
     ]
    }
   ],
   "source": [
    "model_joint = Model(args, charList=open(join(args.ckptpath_recg, 'charList.txt')).read(), loss_beta=0.5,loss_weight=[0.95,0.05], decoderType=DecoderType.BeamSearch,experiment=experiment,mustRestore_seg=True,mustRestore_recg=True,joint=True)"
   ]
  },
  {
   "cell_type": "code",
   "execution_count": null,
   "metadata": {},
   "outputs": [],
   "source": []
  },
  {
   "cell_type": "code",
   "execution_count": null,
   "metadata": {},
   "outputs": [],
   "source": []
  }
 ],
 "metadata": {
  "kernelspec": {
   "display_name": "Python 3",
   "language": "python",
   "name": "python3"
  },
  "language_info": {
   "codemirror_mode": {
    "name": "ipython",
    "version": 3
   },
   "file_extension": ".py",
   "mimetype": "text/x-python",
   "name": "python",
   "nbconvert_exporter": "python",
   "pygments_lexer": "ipython3",
   "version": "3.5.2"
  }
 },
 "nbformat": 4,
 "nbformat_minor": 2
}
